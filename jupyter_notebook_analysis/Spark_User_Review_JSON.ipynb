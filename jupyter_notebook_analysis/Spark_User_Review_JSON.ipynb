{
 "cells": [
  {
   "cell_type": "code",
   "execution_count": 75,
   "metadata": {},
   "outputs": [],
   "source": [
    "# Import our SparkSession so we can use it\n",
    "from pyspark.sql import SparkSession, SQLContext, functions as F\n",
    "from pyspark.sql.functions import col\n",
    "\n",
    "# Create our SparkSession, this can take a couple minutes locally\n",
    "spark = SparkSession.builder.appName(\"UserJSON\") \\\n",
    ".config('spark.sql.broadcastTimeout','24000') \\\n",
    ".config('spark.network.timeout','24000') \\\n",
    ".getOrCreate()\n"
   ]
  },
  {
   "cell_type": "code",
   "execution_count": 1,
   "metadata": {},
   "outputs": [],
   "source": [
    "df_user = spark.read.json(\"../data_source/user.json\")\n",
    "df_review = spark.read.json(\"../data_source/review.json\")\n",
    "df_business = spark.read.json(\"../data_source/business.json\")"
   ]
  },
  {
   "cell_type": "code",
   "execution_count": 77,
   "metadata": {},
   "outputs": [
    {
     "name": "stdout",
     "output_type": "stream",
     "text": [
      "root\n",
      " |-- average_stars: double (nullable = true)\n",
      " |-- compliment_cool: long (nullable = true)\n",
      " |-- compliment_cute: long (nullable = true)\n",
      " |-- compliment_funny: long (nullable = true)\n",
      " |-- compliment_hot: long (nullable = true)\n",
      " |-- compliment_list: long (nullable = true)\n",
      " |-- compliment_more: long (nullable = true)\n",
      " |-- compliment_note: long (nullable = true)\n",
      " |-- compliment_photos: long (nullable = true)\n",
      " |-- compliment_plain: long (nullable = true)\n",
      " |-- compliment_profile: long (nullable = true)\n",
      " |-- compliment_writer: long (nullable = true)\n",
      " |-- cool: long (nullable = true)\n",
      " |-- elite: string (nullable = true)\n",
      " |-- fans: long (nullable = true)\n",
      " |-- friends: string (nullable = true)\n",
      " |-- funny: long (nullable = true)\n",
      " |-- name: string (nullable = true)\n",
      " |-- review_count: long (nullable = true)\n",
      " |-- useful: long (nullable = true)\n",
      " |-- user_id: string (nullable = true)\n",
      " |-- yelping_since: string (nullable = true)\n",
      "\n"
     ]
    }
   ],
   "source": [
    "df_user.printSchema()"
   ]
  },
  {
   "cell_type": "code",
   "execution_count": 78,
   "metadata": {},
   "outputs": [
    {
     "name": "stdout",
     "output_type": "stream",
     "text": [
      "root\n",
      " |-- business_id: string (nullable = true)\n",
      " |-- cool: long (nullable = true)\n",
      " |-- date: string (nullable = true)\n",
      " |-- funny: long (nullable = true)\n",
      " |-- review_id: string (nullable = true)\n",
      " |-- stars: double (nullable = true)\n",
      " |-- text: string (nullable = true)\n",
      " |-- useful: long (nullable = true)\n",
      " |-- user_id: string (nullable = true)\n",
      "\n"
     ]
    }
   ],
   "source": [
    "df_review.printSchema()"
   ]
  },
  {
   "cell_type": "code",
   "execution_count": 79,
   "metadata": {},
   "outputs": [],
   "source": [
    "df_clean_review = df_review.select(\"business_id\", \"stars\", \"text\")"
   ]
  },
  {
   "cell_type": "code",
   "execution_count": 80,
   "metadata": {},
   "outputs": [],
   "source": [
    "df_clean_review = df_clean_review.withColumn(\"Positive_Review\", (df_clean_review.stars > 3))"
   ]
  },
  {
   "cell_type": "code",
   "execution_count": 81,
   "metadata": {
    "scrolled": false
   },
   "outputs": [],
   "source": [
    "df_positive_review = df_clean_review.where(col(\"Positive_Review\") == True).select(\"business_id\", \"text\")"
   ]
  },
  {
   "cell_type": "code",
   "execution_count": 82,
   "metadata": {},
   "outputs": [
    {
     "name": "stdout",
     "output_type": "stream",
     "text": [
      "+--------------------+--------------------+\n",
      "|         business_id|                text|\n",
      "+--------------------+--------------------+\n",
      "|NZnhc2sEQy3RmzKTZ...|I *adore* Travis ...|\n",
      "|WTqjgwHlXbSFevF32...|I have to say tha...|\n",
      "|ikCg8xy5JIg_NGPx-...|Went in for a lun...|\n",
      "|eU_713ec6fTGNO4Be...|I'll be the first...|\n",
      "|8mIrX_LrOnAqWsB5J...|Like walking back...|\n",
      "|FxLfqxdYPA6Z85PFK...|Wow. So surprised...|\n",
      "|LUN6swQYa4xJKaM_U...|Michael from Red ...|\n",
      "|YvrylyuWgbP90RgMq...|You can't really ...|\n",
      "|NyLYY8q1-H3hfsTwu...|Great lunch today...|\n",
      "|6lj2BJ4tJeu7db5as...|We've been a huge...|\n",
      "|qx6WhZ42eDKmBchZD...|Our family LOVES ...|\n",
      "|Mem13A3C202RzT53n...|If you are lookin...|\n",
      "|I4Nr-MVc26qWr08-S...|The food is alway...|\n",
      "|d_L-rfS1vT3JMzgCU...|Pick any meat on ...|\n",
      "|Sfc8Haz2Yri8Mo1L0...|Great food, great...|\n",
      "|FQ1wBQb3aNeRMThSQ...|PlumbSmart provid...|\n",
      "|Gyrez6K8f1AyR7dzW...|their pettuccine ...|\n",
      "|dm6sO_Y8JdKTE1ZM9...|ended up here bec...|\n",
      "|3JxKzWquEbPC3yPIf...|Best chinese rest...|\n",
      "|sMzNLdhJZGzYirIWt...|This place epitom...|\n",
      "+--------------------+--------------------+\n",
      "only showing top 20 rows\n",
      "\n"
     ]
    }
   ],
   "source": [
    "df_positive_review.show(truncate = True)"
   ]
  },
  {
   "cell_type": "code",
   "execution_count": 83,
   "metadata": {},
   "outputs": [],
   "source": [
    "df_clean_business = df_business.select(\"business_id\", \"name\")"
   ]
  },
  {
   "cell_type": "code",
   "execution_count": 89,
   "metadata": {},
   "outputs": [],
   "source": [
    "### Save the join into a file.\n",
    "df_clean_business.coalesce(1).write.format('json').save('raw_data/clean_business')\n",
    "\n"
   ]
  },
  {
   "cell_type": "code",
   "execution_count": 90,
   "metadata": {},
   "outputs": [],
   "source": [
    "json_clean_business = spark.read.json(\"raw_data/clean_business/part-00000-52a71286-af99-4501-809e-828aaf0a661e-c000.json\")\n"
   ]
  },
  {
   "cell_type": "code",
   "execution_count": 91,
   "metadata": {
    "scrolled": false
   },
   "outputs": [],
   "source": [
    "join_business_review = json_clean_business.alias(\"business\").join(df_positive_review.alias(\"review\"), json_clean_business.business_id == df_positive_review.business_id).select([col('business.'+xx) for xx in json_clean_business.columns] + [col(\"review.text\")])\n",
    "\n"
   ]
  },
  {
   "cell_type": "code",
   "execution_count": 92,
   "metadata": {},
   "outputs": [
    {
     "name": "stdout",
     "output_type": "stream",
     "text": [
      "+--------------------+--------------------+--------------------+\n",
      "|         business_id|                name|                text|\n",
      "+--------------------+--------------------+--------------------+\n",
      "|--9e1ONYQuAa-CB_R...|Delmonico Steakhouse|Walked in on a Su...|\n",
      "|--9e1ONYQuAa-CB_R...|Delmonico Steakhouse|On yelp 5 stars =...|\n",
      "|--9e1ONYQuAa-CB_R...|Delmonico Steakhouse|this place hasnt ...|\n",
      "|--9e1ONYQuAa-CB_R...|Delmonico Steakhouse|This is part of m...|\n",
      "|--9e1ONYQuAa-CB_R...|Delmonico Steakhouse|A great culinary ...|\n",
      "|--9e1ONYQuAa-CB_R...|Delmonico Steakhouse|A Las Vegas class...|\n",
      "|--9e1ONYQuAa-CB_R...|Delmonico Steakhouse|World class servi...|\n",
      "|--9e1ONYQuAa-CB_R...|Delmonico Steakhouse|I ate the duck an...|\n",
      "|--9e1ONYQuAa-CB_R...|Delmonico Steakhouse|Had the steak sal...|\n",
      "|--9e1ONYQuAa-CB_R...|Delmonico Steakhouse|Had Dinner at Del...|\n",
      "|--9e1ONYQuAa-CB_R...|Delmonico Steakhouse|Third visit here ...|\n",
      "|--9e1ONYQuAa-CB_R...|Delmonico Steakhouse|There's a reason ...|\n",
      "|--9e1ONYQuAa-CB_R...|Delmonico Steakhouse|Great ambiance.  ...|\n",
      "|--9e1ONYQuAa-CB_R...|Delmonico Steakhouse|Why not 5 stars? ...|\n",
      "|--9e1ONYQuAa-CB_R...|Delmonico Steakhouse|Amazing restauran...|\n",
      "|--9e1ONYQuAa-CB_R...|Delmonico Steakhouse|My friend and I r...|\n",
      "|--9e1ONYQuAa-CB_R...|Delmonico Steakhouse|4 Star for the wh...|\n",
      "|--9e1ONYQuAa-CB_R...|Delmonico Steakhouse|The meal started ...|\n",
      "|--9e1ONYQuAa-CB_R...|Delmonico Steakhouse|Finally made it h...|\n",
      "|--9e1ONYQuAa-CB_R...|Delmonico Steakhouse|My wife took me h...|\n",
      "+--------------------+--------------------+--------------------+\n",
      "only showing top 20 rows\n",
      "\n"
     ]
    }
   ],
   "source": [
    "join_business_review.show()"
   ]
  },
  {
   "cell_type": "code",
   "execution_count": null,
   "metadata": {},
   "outputs": [],
   "source": []
  }
 ],
 "metadata": {
  "kernelspec": {
   "display_name": "Python 3",
   "language": "python",
   "name": "python3"
  },
  "language_info": {
   "codemirror_mode": {
    "name": "ipython",
    "version": 3
   },
   "file_extension": ".py",
   "mimetype": "text/x-python",
   "name": "python",
   "nbconvert_exporter": "python",
   "pygments_lexer": "ipython3",
   "version": "3.7.1"
  }
 },
 "nbformat": 4,
 "nbformat_minor": 2
}
