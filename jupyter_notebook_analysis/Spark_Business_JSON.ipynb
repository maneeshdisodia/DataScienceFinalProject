{
 "cells": [
  {
   "cell_type": "code",
   "execution_count": 1,
   "metadata": {},
   "outputs": [],
   "source": [
    "# Import our SparkSession so we can use it\n",
    "from pyspark.sql import SparkSession, SQLContext, functions as F\n",
    "from pyspark.sql.functions import col\n",
    "\n",
    "# Create our SparkSession, this can take a couple minutes locally\n",
    "spark = SparkSession.builder.appName(\"Business_review_JSON\").config('spark.sql.broadcastTimeout',-1).getOrCreate()"
   ]
  },
  {
   "cell_type": "code",
   "execution_count": 6,
   "metadata": {},
   "outputs": [],
   "source": [
    "df_business = spark.read.json(\"../data_source/business.json\")\n",
    "df_reviews = spark.read.json(\"../data_source/review.json\")"
   ]
  },
  {
   "cell_type": "code",
   "execution_count": null,
   "metadata": {},
   "outputs": [],
   "source": [
    "df_business.printSchema()"
   ]
  },
  {
   "cell_type": "code",
   "execution_count": 25,
   "metadata": {},
   "outputs": [
    {
     "name": "stdout",
     "output_type": "stream",
     "text": [
      "root\n",
      " |-- business_id: string (nullable = true)\n",
      " |-- cool: long (nullable = true)\n",
      " |-- date: string (nullable = true)\n",
      " |-- funny: long (nullable = true)\n",
      " |-- review_id: string (nullable = true)\n",
      " |-- stars: double (nullable = true)\n",
      " |-- text: string (nullable = true)\n",
      " |-- useful: long (nullable = true)\n",
      " |-- user_id: string (nullable = true)\n",
      "\n"
     ]
    }
   ],
   "source": [
    "df_reviews.printSchema()"
   ]
  },
  {
   "cell_type": "code",
   "execution_count": 14,
   "metadata": {},
   "outputs": [
    {
     "name": "stdout",
     "output_type": "stream",
     "text": [
      "+-----+-----+\n",
      "|state|count|\n",
      "+-----+-----+\n",
      "|   AZ|56686|\n",
      "|   NV|36312|\n",
      "|   ON|33412|\n",
      "|   NC|14720|\n",
      "|   OH|14697|\n",
      "+-----+-----+\n",
      "only showing top 5 rows\n",
      "\n"
     ]
    }
   ],
   "source": [
    "States_Counting = df_business.groupBy(\"state\").count()\n",
    "States_Counting.orderBy(col(\"count\").desc()).show(5)"
   ]
  },
  {
   "cell_type": "code",
   "execution_count": null,
   "metadata": {},
   "outputs": [],
   "source": [
    "df_AZ_business = df_business.filter(col(\"state\") == \"AZ\")"
   ]
  },
  {
   "cell_type": "code",
   "execution_count": 30,
   "metadata": {},
   "outputs": [],
   "source": [
    "df_business_review = df_AZ_business.alias(\"business\").join(df_reviews.alias(\"review\"), \"business_id\", \"inner\") \\\n",
    "    .select(\"business.*\", \"review.*\")"
   ]
  },
  {
   "cell_type": "code",
   "execution_count": 31,
   "metadata": {},
   "outputs": [],
   "source": [
    "# Save the join in a new json file..."
   ]
  },
  {
   "cell_type": "code",
   "execution_count": 38,
   "metadata": {
    "scrolled": false
   },
   "outputs": [
    {
     "ename": "Py4JJavaError",
     "evalue": "An error occurred while calling o635.save.\n: org.apache.spark.SparkException: Job aborted.\n\tat org.apache.spark.sql.execution.datasources.FileFormatWriter$.write(FileFormatWriter.scala:196)\n\tat org.apache.spark.sql.execution.datasources.InsertIntoHadoopFsRelationCommand.run(InsertIntoHadoopFsRelationCommand.scala:159)\n\tat org.apache.spark.sql.execution.command.DataWritingCommandExec.sideEffectResult$lzycompute(commands.scala:104)\n\tat org.apache.spark.sql.execution.command.DataWritingCommandExec.sideEffectResult(commands.scala:102)\n\tat org.apache.spark.sql.execution.command.DataWritingCommandExec.doExecute(commands.scala:122)\n\tat org.apache.spark.sql.execution.SparkPlan$$anonfun$execute$1.apply(SparkPlan.scala:131)\n\tat org.apache.spark.sql.execution.SparkPlan$$anonfun$execute$1.apply(SparkPlan.scala:127)\n\tat org.apache.spark.sql.execution.SparkPlan$$anonfun$executeQuery$1.apply(SparkPlan.scala:155)\n\tat org.apache.spark.rdd.RDDOperationScope$.withScope(RDDOperationScope.scala:151)\n\tat org.apache.spark.sql.execution.SparkPlan.executeQuery(SparkPlan.scala:152)\n\tat org.apache.spark.sql.execution.SparkPlan.execute(SparkPlan.scala:127)\n\tat org.apache.spark.sql.execution.QueryExecution.toRdd$lzycompute(QueryExecution.scala:80)\n\tat org.apache.spark.sql.execution.QueryExecution.toRdd(QueryExecution.scala:80)\n\tat org.apache.spark.sql.DataFrameWriter$$anonfun$runCommand$1.apply(DataFrameWriter.scala:668)\n\tat org.apache.spark.sql.DataFrameWriter$$anonfun$runCommand$1.apply(DataFrameWriter.scala:668)\n\tat org.apache.spark.sql.execution.SQLExecution$$anonfun$withNewExecutionId$1.apply(SQLExecution.scala:78)\n\tat org.apache.spark.sql.execution.SQLExecution$.withSQLConfPropagated(SQLExecution.scala:125)\n\tat org.apache.spark.sql.execution.SQLExecution$.withNewExecutionId(SQLExecution.scala:73)\n\tat org.apache.spark.sql.DataFrameWriter.runCommand(DataFrameWriter.scala:668)\n\tat org.apache.spark.sql.DataFrameWriter.saveToV1Source(DataFrameWriter.scala:276)\n\tat org.apache.spark.sql.DataFrameWriter.save(DataFrameWriter.scala:270)\n\tat org.apache.spark.sql.DataFrameWriter.save(DataFrameWriter.scala:228)\n\tat java.base/jdk.internal.reflect.NativeMethodAccessorImpl.invoke0(Native Method)\n\tat java.base/jdk.internal.reflect.NativeMethodAccessorImpl.invoke(NativeMethodAccessorImpl.java:62)\n\tat java.base/jdk.internal.reflect.DelegatingMethodAccessorImpl.invoke(DelegatingMethodAccessorImpl.java:43)\n\tat java.base/java.lang.reflect.Method.invoke(Method.java:566)\n\tat py4j.reflection.MethodInvoker.invoke(MethodInvoker.java:244)\n\tat py4j.reflection.ReflectionEngine.invoke(ReflectionEngine.java:357)\n\tat py4j.Gateway.invoke(Gateway.java:282)\n\tat py4j.commands.AbstractCommand.invokeMethod(AbstractCommand.java:132)\n\tat py4j.commands.CallCommand.execute(CallCommand.java:79)\n\tat py4j.GatewayConnection.run(GatewayConnection.java:238)\n\tat java.base/java.lang.Thread.run(Thread.java:834)\nCaused by: org.apache.spark.SparkException: Job aborted due to stage failure: Task 0 in stage 37.0 failed 1 times, most recent failure: Lost task 0.0 in stage 37.0 (TID 2185, localhost, executor driver): org.apache.spark.SparkException: Task failed while writing rows.\n\tat org.apache.spark.sql.execution.datasources.FileFormatWriter$.org$apache$spark$sql$execution$datasources$FileFormatWriter$$executeTask(FileFormatWriter.scala:254)\n\tat org.apache.spark.sql.execution.datasources.FileFormatWriter$$anonfun$write$1.apply(FileFormatWriter.scala:169)\n\tat org.apache.spark.sql.execution.datasources.FileFormatWriter$$anonfun$write$1.apply(FileFormatWriter.scala:168)\n\tat org.apache.spark.scheduler.ResultTask.runTask(ResultTask.scala:90)\n\tat org.apache.spark.scheduler.Task.run(Task.scala:121)\n\tat org.apache.spark.executor.Executor$TaskRunner$$anonfun$10.apply(Executor.scala:402)\n\tat org.apache.spark.util.Utils$.tryWithSafeFinally(Utils.scala:1360)\n\tat org.apache.spark.executor.Executor$TaskRunner.run(Executor.scala:408)\n\tat java.base/java.util.concurrent.ThreadPoolExecutor.runWorker(ThreadPoolExecutor.java:1128)\n\tat java.base/java.util.concurrent.ThreadPoolExecutor$Worker.run(ThreadPoolExecutor.java:628)\n\tat java.base/java.lang.Thread.run(Thread.java:834)\nCaused by: java.lang.NoSuchMethodError: sun.nio.ch.DirectBuffer.cleaner()Lsun/misc/Cleaner;\n\tat org.apache.spark.storage.StorageUtils$.cleanDirectBuffer(StorageUtils.scala:212)\n\tat org.apache.spark.storage.StorageUtils$.dispose(StorageUtils.scala:207)\n\tat org.apache.spark.storage.StorageUtils.dispose(StorageUtils.scala)\n\tat org.apache.spark.io.NioBufferedFileInputStream.close(NioBufferedFileInputStream.java:130)\n\tat java.base/java.io.FilterInputStream.close(FilterInputStream.java:180)\n\tat org.apache.spark.io.ReadAheadInputStream.close(ReadAheadInputStream.java:400)\n\tat org.apache.spark.util.collection.unsafe.sort.UnsafeSorterSpillReader.close(UnsafeSorterSpillReader.java:152)\n\tat org.apache.spark.util.collection.unsafe.sort.UnsafeSorterSpillReader.loadNext(UnsafeSorterSpillReader.java:124)\n\tat org.apache.spark.util.collection.unsafe.sort.UnsafeExternalSorter$SpillableIterator.loadNext(UnsafeExternalSorter.java:590)\n\tat org.apache.spark.sql.execution.UnsafeExternalRowSorter$1.next(UnsafeExternalRowSorter.java:187)\n\tat org.apache.spark.sql.execution.UnsafeExternalRowSorter$1.next(UnsafeExternalRowSorter.java:174)\n\tat org.apache.spark.sql.catalyst.expressions.GeneratedClass$GeneratedIteratorForCodegenStage2.processNext(Unknown Source)\n\tat org.apache.spark.sql.execution.BufferedRowIterator.hasNext(BufferedRowIterator.java:43)\n\tat org.apache.spark.sql.execution.WholeStageCodegenExec$$anonfun$11$$anon$1.hasNext(WholeStageCodegenExec.scala:619)\n\tat org.apache.spark.sql.catalyst.expressions.GeneratedClass$GeneratedIteratorForCodegenStage5.findNextInnerJoinRows$(Unknown Source)\n\tat org.apache.spark.sql.catalyst.expressions.GeneratedClass$GeneratedIteratorForCodegenStage5.processNext(Unknown Source)\n\tat org.apache.spark.sql.execution.BufferedRowIterator.hasNext(BufferedRowIterator.java:43)\n\tat org.apache.spark.sql.execution.WholeStageCodegenExec$$anonfun$13$$anon$2.hasNext(WholeStageCodegenExec.scala:638)\n\tat scala.collection.Iterator$$anon$12.hasNext(Iterator.scala:439)\n\tat org.apache.spark.sql.execution.datasources.FileFormatWriter$$anonfun$org$apache$spark$sql$execution$datasources$FileFormatWriter$$executeTask$3.apply(FileFormatWriter.scala:241)\n\tat org.apache.spark.sql.execution.datasources.FileFormatWriter$$anonfun$org$apache$spark$sql$execution$datasources$FileFormatWriter$$executeTask$3.apply(FileFormatWriter.scala:239)\n\tat org.apache.spark.util.Utils$.tryWithSafeFinallyAndFailureCallbacks(Utils.scala:1394)\n\tat org.apache.spark.sql.execution.datasources.FileFormatWriter$.org$apache$spark$sql$execution$datasources$FileFormatWriter$$executeTask(FileFormatWriter.scala:245)\n\t... 10 more\n\nDriver stacktrace:\n\tat org.apache.spark.scheduler.DAGScheduler.org$apache$spark$scheduler$DAGScheduler$$failJobAndIndependentStages(DAGScheduler.scala:1887)\n\tat org.apache.spark.scheduler.DAGScheduler$$anonfun$abortStage$1.apply(DAGScheduler.scala:1875)\n\tat org.apache.spark.scheduler.DAGScheduler$$anonfun$abortStage$1.apply(DAGScheduler.scala:1874)\n\tat scala.collection.mutable.ResizableArray$class.foreach(ResizableArray.scala:59)\n\tat scala.collection.mutable.ArrayBuffer.foreach(ArrayBuffer.scala:48)\n\tat org.apache.spark.scheduler.DAGScheduler.abortStage(DAGScheduler.scala:1874)\n\tat org.apache.spark.scheduler.DAGScheduler$$anonfun$handleTaskSetFailed$1.apply(DAGScheduler.scala:926)\n\tat org.apache.spark.scheduler.DAGScheduler$$anonfun$handleTaskSetFailed$1.apply(DAGScheduler.scala:926)\n\tat scala.Option.foreach(Option.scala:257)\n\tat org.apache.spark.scheduler.DAGScheduler.handleTaskSetFailed(DAGScheduler.scala:926)\n\tat org.apache.spark.scheduler.DAGSchedulerEventProcessLoop.doOnReceive(DAGScheduler.scala:2108)\n\tat org.apache.spark.scheduler.DAGSchedulerEventProcessLoop.onReceive(DAGScheduler.scala:2057)\n\tat org.apache.spark.scheduler.DAGSchedulerEventProcessLoop.onReceive(DAGScheduler.scala:2046)\n\tat org.apache.spark.util.EventLoop$$anon$1.run(EventLoop.scala:49)\n\tat org.apache.spark.scheduler.DAGScheduler.runJob(DAGScheduler.scala:737)\n\tat org.apache.spark.SparkContext.runJob(SparkContext.scala:2061)\n\tat org.apache.spark.sql.execution.datasources.FileFormatWriter$.write(FileFormatWriter.scala:166)\n\t... 32 more\nCaused by: org.apache.spark.SparkException: Task failed while writing rows.\n\tat org.apache.spark.sql.execution.datasources.FileFormatWriter$.org$apache$spark$sql$execution$datasources$FileFormatWriter$$executeTask(FileFormatWriter.scala:254)\n\tat org.apache.spark.sql.execution.datasources.FileFormatWriter$$anonfun$write$1.apply(FileFormatWriter.scala:169)\n\tat org.apache.spark.sql.execution.datasources.FileFormatWriter$$anonfun$write$1.apply(FileFormatWriter.scala:168)\n\tat org.apache.spark.scheduler.ResultTask.runTask(ResultTask.scala:90)\n\tat org.apache.spark.scheduler.Task.run(Task.scala:121)\n\tat org.apache.spark.executor.Executor$TaskRunner$$anonfun$10.apply(Executor.scala:402)\n\tat org.apache.spark.util.Utils$.tryWithSafeFinally(Utils.scala:1360)\n\tat org.apache.spark.executor.Executor$TaskRunner.run(Executor.scala:408)\n\tat java.base/java.util.concurrent.ThreadPoolExecutor.runWorker(ThreadPoolExecutor.java:1128)\n\tat java.base/java.util.concurrent.ThreadPoolExecutor$Worker.run(ThreadPoolExecutor.java:628)\n\t... 1 more\nCaused by: java.lang.NoSuchMethodError: sun.nio.ch.DirectBuffer.cleaner()Lsun/misc/Cleaner;\n\tat org.apache.spark.storage.StorageUtils$.cleanDirectBuffer(StorageUtils.scala:212)\n\tat org.apache.spark.storage.StorageUtils$.dispose(StorageUtils.scala:207)\n\tat org.apache.spark.storage.StorageUtils.dispose(StorageUtils.scala)\n\tat org.apache.spark.io.NioBufferedFileInputStream.close(NioBufferedFileInputStream.java:130)\n\tat java.base/java.io.FilterInputStream.close(FilterInputStream.java:180)\n\tat org.apache.spark.io.ReadAheadInputStream.close(ReadAheadInputStream.java:400)\n\tat org.apache.spark.util.collection.unsafe.sort.UnsafeSorterSpillReader.close(UnsafeSorterSpillReader.java:152)\n\tat org.apache.spark.util.collection.unsafe.sort.UnsafeSorterSpillReader.loadNext(UnsafeSorterSpillReader.java:124)\n\tat org.apache.spark.util.collection.unsafe.sort.UnsafeExternalSorter$SpillableIterator.loadNext(UnsafeExternalSorter.java:590)\n\tat org.apache.spark.sql.execution.UnsafeExternalRowSorter$1.next(UnsafeExternalRowSorter.java:187)\n\tat org.apache.spark.sql.execution.UnsafeExternalRowSorter$1.next(UnsafeExternalRowSorter.java:174)\n\tat org.apache.spark.sql.catalyst.expressions.GeneratedClass$GeneratedIteratorForCodegenStage2.processNext(Unknown Source)\n\tat org.apache.spark.sql.execution.BufferedRowIterator.hasNext(BufferedRowIterator.java:43)\n\tat org.apache.spark.sql.execution.WholeStageCodegenExec$$anonfun$11$$anon$1.hasNext(WholeStageCodegenExec.scala:619)\n\tat org.apache.spark.sql.catalyst.expressions.GeneratedClass$GeneratedIteratorForCodegenStage5.findNextInnerJoinRows$(Unknown Source)\n\tat org.apache.spark.sql.catalyst.expressions.GeneratedClass$GeneratedIteratorForCodegenStage5.processNext(Unknown Source)\n\tat org.apache.spark.sql.execution.BufferedRowIterator.hasNext(BufferedRowIterator.java:43)\n\tat org.apache.spark.sql.execution.WholeStageCodegenExec$$anonfun$13$$anon$2.hasNext(WholeStageCodegenExec.scala:638)\n\tat scala.collection.Iterator$$anon$12.hasNext(Iterator.scala:439)\n\tat org.apache.spark.sql.execution.datasources.FileFormatWriter$$anonfun$org$apache$spark$sql$execution$datasources$FileFormatWriter$$executeTask$3.apply(FileFormatWriter.scala:241)\n\tat org.apache.spark.sql.execution.datasources.FileFormatWriter$$anonfun$org$apache$spark$sql$execution$datasources$FileFormatWriter$$executeTask$3.apply(FileFormatWriter.scala:239)\n\tat org.apache.spark.util.Utils$.tryWithSafeFinallyAndFailureCallbacks(Utils.scala:1394)\n\tat org.apache.spark.sql.execution.datasources.FileFormatWriter$.org$apache$spark$sql$execution$datasources$FileFormatWriter$$executeTask(FileFormatWriter.scala:245)\n\t... 10 more\n",
     "output_type": "error",
     "traceback": [
      "\u001b[0;31m---------------------------------------------------------------------------\u001b[0m",
      "\u001b[0;31mPy4JJavaError\u001b[0m                             Traceback (most recent call last)",
      "\u001b[0;32m<ipython-input-38-af9d7761c2af>\u001b[0m in \u001b[0;36m<module>\u001b[0;34m\u001b[0m\n\u001b[1;32m      4\u001b[0m                               \u001b[0;34m\"review.text\"\u001b[0m\u001b[0;34m,\u001b[0m\u001b[0;34m\u001b[0m\u001b[0;34m\u001b[0m\u001b[0m\n\u001b[1;32m      5\u001b[0m                               \"review.stars as review_stars\") \\\n\u001b[0;32m----> 6\u001b[0;31m     \u001b[0;34m.\u001b[0m\u001b[0mcoalesce\u001b[0m\u001b[0;34m(\u001b[0m\u001b[0;36m1\u001b[0m\u001b[0;34m)\u001b[0m\u001b[0;34m.\u001b[0m\u001b[0mwrite\u001b[0m\u001b[0;34m.\u001b[0m\u001b[0mformat\u001b[0m\u001b[0;34m(\u001b[0m\u001b[0;34m'json'\u001b[0m\u001b[0;34m)\u001b[0m\u001b[0;34m.\u001b[0m\u001b[0msave\u001b[0m\u001b[0;34m(\u001b[0m\u001b[0;34m'../data_source/business_review'\u001b[0m\u001b[0;34m)\u001b[0m\u001b[0;34m\u001b[0m\u001b[0;34m\u001b[0m\u001b[0m\n\u001b[0m\u001b[1;32m      7\u001b[0m \u001b[0;34m\u001b[0m\u001b[0m\n",
      "\u001b[0;32m~/Applications/spark-2.4.0-bin-hadoop2.6/python/pyspark/sql/readwriter.py\u001b[0m in \u001b[0;36msave\u001b[0;34m(self, path, format, mode, partitionBy, **options)\u001b[0m\n\u001b[1;32m    734\u001b[0m             \u001b[0mself\u001b[0m\u001b[0;34m.\u001b[0m\u001b[0m_jwrite\u001b[0m\u001b[0;34m.\u001b[0m\u001b[0msave\u001b[0m\u001b[0;34m(\u001b[0m\u001b[0;34m)\u001b[0m\u001b[0;34m\u001b[0m\u001b[0;34m\u001b[0m\u001b[0m\n\u001b[1;32m    735\u001b[0m         \u001b[0;32melse\u001b[0m\u001b[0;34m:\u001b[0m\u001b[0;34m\u001b[0m\u001b[0;34m\u001b[0m\u001b[0m\n\u001b[0;32m--> 736\u001b[0;31m             \u001b[0mself\u001b[0m\u001b[0;34m.\u001b[0m\u001b[0m_jwrite\u001b[0m\u001b[0;34m.\u001b[0m\u001b[0msave\u001b[0m\u001b[0;34m(\u001b[0m\u001b[0mpath\u001b[0m\u001b[0;34m)\u001b[0m\u001b[0;34m\u001b[0m\u001b[0;34m\u001b[0m\u001b[0m\n\u001b[0m\u001b[1;32m    737\u001b[0m \u001b[0;34m\u001b[0m\u001b[0m\n\u001b[1;32m    738\u001b[0m     \u001b[0;34m@\u001b[0m\u001b[0msince\u001b[0m\u001b[0;34m(\u001b[0m\u001b[0;36m1.4\u001b[0m\u001b[0;34m)\u001b[0m\u001b[0;34m\u001b[0m\u001b[0;34m\u001b[0m\u001b[0m\n",
      "\u001b[0;32m~/Applications/spark-2.4.0-bin-hadoop2.6/python/lib/py4j-0.10.7-src.zip/py4j/java_gateway.py\u001b[0m in \u001b[0;36m__call__\u001b[0;34m(self, *args)\u001b[0m\n\u001b[1;32m   1255\u001b[0m         \u001b[0manswer\u001b[0m \u001b[0;34m=\u001b[0m \u001b[0mself\u001b[0m\u001b[0;34m.\u001b[0m\u001b[0mgateway_client\u001b[0m\u001b[0;34m.\u001b[0m\u001b[0msend_command\u001b[0m\u001b[0;34m(\u001b[0m\u001b[0mcommand\u001b[0m\u001b[0;34m)\u001b[0m\u001b[0;34m\u001b[0m\u001b[0;34m\u001b[0m\u001b[0m\n\u001b[1;32m   1256\u001b[0m         return_value = get_return_value(\n\u001b[0;32m-> 1257\u001b[0;31m             answer, self.gateway_client, self.target_id, self.name)\n\u001b[0m\u001b[1;32m   1258\u001b[0m \u001b[0;34m\u001b[0m\u001b[0m\n\u001b[1;32m   1259\u001b[0m         \u001b[0;32mfor\u001b[0m \u001b[0mtemp_arg\u001b[0m \u001b[0;32min\u001b[0m \u001b[0mtemp_args\u001b[0m\u001b[0;34m:\u001b[0m\u001b[0;34m\u001b[0m\u001b[0;34m\u001b[0m\u001b[0m\n",
      "\u001b[0;32m~/Applications/spark-2.4.0-bin-hadoop2.6/python/pyspark/sql/utils.py\u001b[0m in \u001b[0;36mdeco\u001b[0;34m(*a, **kw)\u001b[0m\n\u001b[1;32m     61\u001b[0m     \u001b[0;32mdef\u001b[0m \u001b[0mdeco\u001b[0m\u001b[0;34m(\u001b[0m\u001b[0;34m*\u001b[0m\u001b[0ma\u001b[0m\u001b[0;34m,\u001b[0m \u001b[0;34m**\u001b[0m\u001b[0mkw\u001b[0m\u001b[0;34m)\u001b[0m\u001b[0;34m:\u001b[0m\u001b[0;34m\u001b[0m\u001b[0;34m\u001b[0m\u001b[0m\n\u001b[1;32m     62\u001b[0m         \u001b[0;32mtry\u001b[0m\u001b[0;34m:\u001b[0m\u001b[0;34m\u001b[0m\u001b[0;34m\u001b[0m\u001b[0m\n\u001b[0;32m---> 63\u001b[0;31m             \u001b[0;32mreturn\u001b[0m \u001b[0mf\u001b[0m\u001b[0;34m(\u001b[0m\u001b[0;34m*\u001b[0m\u001b[0ma\u001b[0m\u001b[0;34m,\u001b[0m \u001b[0;34m**\u001b[0m\u001b[0mkw\u001b[0m\u001b[0;34m)\u001b[0m\u001b[0;34m\u001b[0m\u001b[0;34m\u001b[0m\u001b[0m\n\u001b[0m\u001b[1;32m     64\u001b[0m         \u001b[0;32mexcept\u001b[0m \u001b[0mpy4j\u001b[0m\u001b[0;34m.\u001b[0m\u001b[0mprotocol\u001b[0m\u001b[0;34m.\u001b[0m\u001b[0mPy4JJavaError\u001b[0m \u001b[0;32mas\u001b[0m \u001b[0me\u001b[0m\u001b[0;34m:\u001b[0m\u001b[0;34m\u001b[0m\u001b[0;34m\u001b[0m\u001b[0m\n\u001b[1;32m     65\u001b[0m             \u001b[0ms\u001b[0m \u001b[0;34m=\u001b[0m \u001b[0me\u001b[0m\u001b[0;34m.\u001b[0m\u001b[0mjava_exception\u001b[0m\u001b[0;34m.\u001b[0m\u001b[0mtoString\u001b[0m\u001b[0;34m(\u001b[0m\u001b[0;34m)\u001b[0m\u001b[0;34m\u001b[0m\u001b[0;34m\u001b[0m\u001b[0m\n",
      "\u001b[0;32m~/Applications/spark-2.4.0-bin-hadoop2.6/python/lib/py4j-0.10.7-src.zip/py4j/protocol.py\u001b[0m in \u001b[0;36mget_return_value\u001b[0;34m(answer, gateway_client, target_id, name)\u001b[0m\n\u001b[1;32m    326\u001b[0m                 raise Py4JJavaError(\n\u001b[1;32m    327\u001b[0m                     \u001b[0;34m\"An error occurred while calling {0}{1}{2}.\\n\"\u001b[0m\u001b[0;34m.\u001b[0m\u001b[0;34m\u001b[0m\u001b[0;34m\u001b[0m\u001b[0m\n\u001b[0;32m--> 328\u001b[0;31m                     format(target_id, \".\", name), value)\n\u001b[0m\u001b[1;32m    329\u001b[0m             \u001b[0;32melse\u001b[0m\u001b[0;34m:\u001b[0m\u001b[0;34m\u001b[0m\u001b[0;34m\u001b[0m\u001b[0m\n\u001b[1;32m    330\u001b[0m                 raise Py4JError(\n",
      "\u001b[0;31mPy4JJavaError\u001b[0m: An error occurred while calling o635.save.\n: org.apache.spark.SparkException: Job aborted.\n\tat org.apache.spark.sql.execution.datasources.FileFormatWriter$.write(FileFormatWriter.scala:196)\n\tat org.apache.spark.sql.execution.datasources.InsertIntoHadoopFsRelationCommand.run(InsertIntoHadoopFsRelationCommand.scala:159)\n\tat org.apache.spark.sql.execution.command.DataWritingCommandExec.sideEffectResult$lzycompute(commands.scala:104)\n\tat org.apache.spark.sql.execution.command.DataWritingCommandExec.sideEffectResult(commands.scala:102)\n\tat org.apache.spark.sql.execution.command.DataWritingCommandExec.doExecute(commands.scala:122)\n\tat org.apache.spark.sql.execution.SparkPlan$$anonfun$execute$1.apply(SparkPlan.scala:131)\n\tat org.apache.spark.sql.execution.SparkPlan$$anonfun$execute$1.apply(SparkPlan.scala:127)\n\tat org.apache.spark.sql.execution.SparkPlan$$anonfun$executeQuery$1.apply(SparkPlan.scala:155)\n\tat org.apache.spark.rdd.RDDOperationScope$.withScope(RDDOperationScope.scala:151)\n\tat org.apache.spark.sql.execution.SparkPlan.executeQuery(SparkPlan.scala:152)\n\tat org.apache.spark.sql.execution.SparkPlan.execute(SparkPlan.scala:127)\n\tat org.apache.spark.sql.execution.QueryExecution.toRdd$lzycompute(QueryExecution.scala:80)\n\tat org.apache.spark.sql.execution.QueryExecution.toRdd(QueryExecution.scala:80)\n\tat org.apache.spark.sql.DataFrameWriter$$anonfun$runCommand$1.apply(DataFrameWriter.scala:668)\n\tat org.apache.spark.sql.DataFrameWriter$$anonfun$runCommand$1.apply(DataFrameWriter.scala:668)\n\tat org.apache.spark.sql.execution.SQLExecution$$anonfun$withNewExecutionId$1.apply(SQLExecution.scala:78)\n\tat org.apache.spark.sql.execution.SQLExecution$.withSQLConfPropagated(SQLExecution.scala:125)\n\tat org.apache.spark.sql.execution.SQLExecution$.withNewExecutionId(SQLExecution.scala:73)\n\tat org.apache.spark.sql.DataFrameWriter.runCommand(DataFrameWriter.scala:668)\n\tat org.apache.spark.sql.DataFrameWriter.saveToV1Source(DataFrameWriter.scala:276)\n\tat org.apache.spark.sql.DataFrameWriter.save(DataFrameWriter.scala:270)\n\tat org.apache.spark.sql.DataFrameWriter.save(DataFrameWriter.scala:228)\n\tat java.base/jdk.internal.reflect.NativeMethodAccessorImpl.invoke0(Native Method)\n\tat java.base/jdk.internal.reflect.NativeMethodAccessorImpl.invoke(NativeMethodAccessorImpl.java:62)\n\tat java.base/jdk.internal.reflect.DelegatingMethodAccessorImpl.invoke(DelegatingMethodAccessorImpl.java:43)\n\tat java.base/java.lang.reflect.Method.invoke(Method.java:566)\n\tat py4j.reflection.MethodInvoker.invoke(MethodInvoker.java:244)\n\tat py4j.reflection.ReflectionEngine.invoke(ReflectionEngine.java:357)\n\tat py4j.Gateway.invoke(Gateway.java:282)\n\tat py4j.commands.AbstractCommand.invokeMethod(AbstractCommand.java:132)\n\tat py4j.commands.CallCommand.execute(CallCommand.java:79)\n\tat py4j.GatewayConnection.run(GatewayConnection.java:238)\n\tat java.base/java.lang.Thread.run(Thread.java:834)\nCaused by: org.apache.spark.SparkException: Job aborted due to stage failure: Task 0 in stage 37.0 failed 1 times, most recent failure: Lost task 0.0 in stage 37.0 (TID 2185, localhost, executor driver): org.apache.spark.SparkException: Task failed while writing rows.\n\tat org.apache.spark.sql.execution.datasources.FileFormatWriter$.org$apache$spark$sql$execution$datasources$FileFormatWriter$$executeTask(FileFormatWriter.scala:254)\n\tat org.apache.spark.sql.execution.datasources.FileFormatWriter$$anonfun$write$1.apply(FileFormatWriter.scala:169)\n\tat org.apache.spark.sql.execution.datasources.FileFormatWriter$$anonfun$write$1.apply(FileFormatWriter.scala:168)\n\tat org.apache.spark.scheduler.ResultTask.runTask(ResultTask.scala:90)\n\tat org.apache.spark.scheduler.Task.run(Task.scala:121)\n\tat org.apache.spark.executor.Executor$TaskRunner$$anonfun$10.apply(Executor.scala:402)\n\tat org.apache.spark.util.Utils$.tryWithSafeFinally(Utils.scala:1360)\n\tat org.apache.spark.executor.Executor$TaskRunner.run(Executor.scala:408)\n\tat java.base/java.util.concurrent.ThreadPoolExecutor.runWorker(ThreadPoolExecutor.java:1128)\n\tat java.base/java.util.concurrent.ThreadPoolExecutor$Worker.run(ThreadPoolExecutor.java:628)\n\tat java.base/java.lang.Thread.run(Thread.java:834)\nCaused by: java.lang.NoSuchMethodError: sun.nio.ch.DirectBuffer.cleaner()Lsun/misc/Cleaner;\n\tat org.apache.spark.storage.StorageUtils$.cleanDirectBuffer(StorageUtils.scala:212)\n\tat org.apache.spark.storage.StorageUtils$.dispose(StorageUtils.scala:207)\n\tat org.apache.spark.storage.StorageUtils.dispose(StorageUtils.scala)\n\tat org.apache.spark.io.NioBufferedFileInputStream.close(NioBufferedFileInputStream.java:130)\n\tat java.base/java.io.FilterInputStream.close(FilterInputStream.java:180)\n\tat org.apache.spark.io.ReadAheadInputStream.close(ReadAheadInputStream.java:400)\n\tat org.apache.spark.util.collection.unsafe.sort.UnsafeSorterSpillReader.close(UnsafeSorterSpillReader.java:152)\n\tat org.apache.spark.util.collection.unsafe.sort.UnsafeSorterSpillReader.loadNext(UnsafeSorterSpillReader.java:124)\n\tat org.apache.spark.util.collection.unsafe.sort.UnsafeExternalSorter$SpillableIterator.loadNext(UnsafeExternalSorter.java:590)\n\tat org.apache.spark.sql.execution.UnsafeExternalRowSorter$1.next(UnsafeExternalRowSorter.java:187)\n\tat org.apache.spark.sql.execution.UnsafeExternalRowSorter$1.next(UnsafeExternalRowSorter.java:174)\n\tat org.apache.spark.sql.catalyst.expressions.GeneratedClass$GeneratedIteratorForCodegenStage2.processNext(Unknown Source)\n\tat org.apache.spark.sql.execution.BufferedRowIterator.hasNext(BufferedRowIterator.java:43)\n\tat org.apache.spark.sql.execution.WholeStageCodegenExec$$anonfun$11$$anon$1.hasNext(WholeStageCodegenExec.scala:619)\n\tat org.apache.spark.sql.catalyst.expressions.GeneratedClass$GeneratedIteratorForCodegenStage5.findNextInnerJoinRows$(Unknown Source)\n\tat org.apache.spark.sql.catalyst.expressions.GeneratedClass$GeneratedIteratorForCodegenStage5.processNext(Unknown Source)\n\tat org.apache.spark.sql.execution.BufferedRowIterator.hasNext(BufferedRowIterator.java:43)\n\tat org.apache.spark.sql.execution.WholeStageCodegenExec$$anonfun$13$$anon$2.hasNext(WholeStageCodegenExec.scala:638)\n\tat scala.collection.Iterator$$anon$12.hasNext(Iterator.scala:439)\n\tat org.apache.spark.sql.execution.datasources.FileFormatWriter$$anonfun$org$apache$spark$sql$execution$datasources$FileFormatWriter$$executeTask$3.apply(FileFormatWriter.scala:241)\n\tat org.apache.spark.sql.execution.datasources.FileFormatWriter$$anonfun$org$apache$spark$sql$execution$datasources$FileFormatWriter$$executeTask$3.apply(FileFormatWriter.scala:239)\n\tat org.apache.spark.util.Utils$.tryWithSafeFinallyAndFailureCallbacks(Utils.scala:1394)\n\tat org.apache.spark.sql.execution.datasources.FileFormatWriter$.org$apache$spark$sql$execution$datasources$FileFormatWriter$$executeTask(FileFormatWriter.scala:245)\n\t... 10 more\n\nDriver stacktrace:\n\tat org.apache.spark.scheduler.DAGScheduler.org$apache$spark$scheduler$DAGScheduler$$failJobAndIndependentStages(DAGScheduler.scala:1887)\n\tat org.apache.spark.scheduler.DAGScheduler$$anonfun$abortStage$1.apply(DAGScheduler.scala:1875)\n\tat org.apache.spark.scheduler.DAGScheduler$$anonfun$abortStage$1.apply(DAGScheduler.scala:1874)\n\tat scala.collection.mutable.ResizableArray$class.foreach(ResizableArray.scala:59)\n\tat scala.collection.mutable.ArrayBuffer.foreach(ArrayBuffer.scala:48)\n\tat org.apache.spark.scheduler.DAGScheduler.abortStage(DAGScheduler.scala:1874)\n\tat org.apache.spark.scheduler.DAGScheduler$$anonfun$handleTaskSetFailed$1.apply(DAGScheduler.scala:926)\n\tat org.apache.spark.scheduler.DAGScheduler$$anonfun$handleTaskSetFailed$1.apply(DAGScheduler.scala:926)\n\tat scala.Option.foreach(Option.scala:257)\n\tat org.apache.spark.scheduler.DAGScheduler.handleTaskSetFailed(DAGScheduler.scala:926)\n\tat org.apache.spark.scheduler.DAGSchedulerEventProcessLoop.doOnReceive(DAGScheduler.scala:2108)\n\tat org.apache.spark.scheduler.DAGSchedulerEventProcessLoop.onReceive(DAGScheduler.scala:2057)\n\tat org.apache.spark.scheduler.DAGSchedulerEventProcessLoop.onReceive(DAGScheduler.scala:2046)\n\tat org.apache.spark.util.EventLoop$$anon$1.run(EventLoop.scala:49)\n\tat org.apache.spark.scheduler.DAGScheduler.runJob(DAGScheduler.scala:737)\n\tat org.apache.spark.SparkContext.runJob(SparkContext.scala:2061)\n\tat org.apache.spark.sql.execution.datasources.FileFormatWriter$.write(FileFormatWriter.scala:166)\n\t... 32 more\nCaused by: org.apache.spark.SparkException: Task failed while writing rows.\n\tat org.apache.spark.sql.execution.datasources.FileFormatWriter$.org$apache$spark$sql$execution$datasources$FileFormatWriter$$executeTask(FileFormatWriter.scala:254)\n\tat org.apache.spark.sql.execution.datasources.FileFormatWriter$$anonfun$write$1.apply(FileFormatWriter.scala:169)\n\tat org.apache.spark.sql.execution.datasources.FileFormatWriter$$anonfun$write$1.apply(FileFormatWriter.scala:168)\n\tat org.apache.spark.scheduler.ResultTask.runTask(ResultTask.scala:90)\n\tat org.apache.spark.scheduler.Task.run(Task.scala:121)\n\tat org.apache.spark.executor.Executor$TaskRunner$$anonfun$10.apply(Executor.scala:402)\n\tat org.apache.spark.util.Utils$.tryWithSafeFinally(Utils.scala:1360)\n\tat org.apache.spark.executor.Executor$TaskRunner.run(Executor.scala:408)\n\tat java.base/java.util.concurrent.ThreadPoolExecutor.runWorker(ThreadPoolExecutor.java:1128)\n\tat java.base/java.util.concurrent.ThreadPoolExecutor$Worker.run(ThreadPoolExecutor.java:628)\n\t... 1 more\nCaused by: java.lang.NoSuchMethodError: sun.nio.ch.DirectBuffer.cleaner()Lsun/misc/Cleaner;\n\tat org.apache.spark.storage.StorageUtils$.cleanDirectBuffer(StorageUtils.scala:212)\n\tat org.apache.spark.storage.StorageUtils$.dispose(StorageUtils.scala:207)\n\tat org.apache.spark.storage.StorageUtils.dispose(StorageUtils.scala)\n\tat org.apache.spark.io.NioBufferedFileInputStream.close(NioBufferedFileInputStream.java:130)\n\tat java.base/java.io.FilterInputStream.close(FilterInputStream.java:180)\n\tat org.apache.spark.io.ReadAheadInputStream.close(ReadAheadInputStream.java:400)\n\tat org.apache.spark.util.collection.unsafe.sort.UnsafeSorterSpillReader.close(UnsafeSorterSpillReader.java:152)\n\tat org.apache.spark.util.collection.unsafe.sort.UnsafeSorterSpillReader.loadNext(UnsafeSorterSpillReader.java:124)\n\tat org.apache.spark.util.collection.unsafe.sort.UnsafeExternalSorter$SpillableIterator.loadNext(UnsafeExternalSorter.java:590)\n\tat org.apache.spark.sql.execution.UnsafeExternalRowSorter$1.next(UnsafeExternalRowSorter.java:187)\n\tat org.apache.spark.sql.execution.UnsafeExternalRowSorter$1.next(UnsafeExternalRowSorter.java:174)\n\tat org.apache.spark.sql.catalyst.expressions.GeneratedClass$GeneratedIteratorForCodegenStage2.processNext(Unknown Source)\n\tat org.apache.spark.sql.execution.BufferedRowIterator.hasNext(BufferedRowIterator.java:43)\n\tat org.apache.spark.sql.execution.WholeStageCodegenExec$$anonfun$11$$anon$1.hasNext(WholeStageCodegenExec.scala:619)\n\tat org.apache.spark.sql.catalyst.expressions.GeneratedClass$GeneratedIteratorForCodegenStage5.findNextInnerJoinRows$(Unknown Source)\n\tat org.apache.spark.sql.catalyst.expressions.GeneratedClass$GeneratedIteratorForCodegenStage5.processNext(Unknown Source)\n\tat org.apache.spark.sql.execution.BufferedRowIterator.hasNext(BufferedRowIterator.java:43)\n\tat org.apache.spark.sql.execution.WholeStageCodegenExec$$anonfun$13$$anon$2.hasNext(WholeStageCodegenExec.scala:638)\n\tat scala.collection.Iterator$$anon$12.hasNext(Iterator.scala:439)\n\tat org.apache.spark.sql.execution.datasources.FileFormatWriter$$anonfun$org$apache$spark$sql$execution$datasources$FileFormatWriter$$executeTask$3.apply(FileFormatWriter.scala:241)\n\tat org.apache.spark.sql.execution.datasources.FileFormatWriter$$anonfun$org$apache$spark$sql$execution$datasources$FileFormatWriter$$executeTask$3.apply(FileFormatWriter.scala:239)\n\tat org.apache.spark.util.Utils$.tryWithSafeFinallyAndFailureCallbacks(Utils.scala:1394)\n\tat org.apache.spark.sql.execution.datasources.FileFormatWriter$.org$apache$spark$sql$execution$datasources$FileFormatWriter$$executeTask(FileFormatWriter.scala:245)\n\t... 10 more\n"
     ]
    }
   ],
   "source": [
    "df_business_review.selectExpr(\"business.*\", \n",
    "                              \"review.review_id\",\n",
    "                              \"review.user_id\",\n",
    "                              \"review.text\",\n",
    "                              \"review.stars as review_stars\") \\\n",
    "    .coalesce(1).write.format('json').save('../data_source/business_review')\n",
    "\n"
   ]
  },
  {
   "cell_type": "code",
   "execution_count": null,
   "metadata": {},
   "outputs": [],
   "source": []
  },
  {
   "cell_type": "code",
   "execution_count": 20,
   "metadata": {},
   "outputs": [
    {
     "name": "stdout",
     "output_type": "stream",
     "text": [
      "+--------------------+-----+-----+\n",
      "|         business_id|stars|count|\n",
      "+--------------------+-----+-----+\n",
      "|-I06hkMFrX0KBqu61...|  5.0|    3|\n",
      "|74LU6K2ro5AQXKT0J...|  4.0|   16|\n",
      "|7EnzO970Zdrd_gjIJ...|  4.5|   19|\n",
      "|93yfzr8B1s-mhan2W...|  3.0|    6|\n",
      "|l3DOX58AX5mcHqnbJ...|  3.5|    6|\n",
      "|xdBeEql6sCe7zBHZx...|  5.0|    7|\n",
      "|FYR3nVpNvY2X6dBu1...|  5.0|    3|\n",
      "|IVRpIYUnWpvSneeGH...|  5.0|   10|\n",
      "|L7onn3bgx-8HgKERS...|  5.0|   12|\n",
      "|dtp3UPOH3Fig5zW2t...|  3.5|    3|\n",
      "|lcqzUoxA6E2aVIF7_...|  1.0|    3|\n",
      "|UBOUVw45T86I6FgXA...|  5.0|    4|\n",
      "|UcCJfq0PElINpflaT...|  2.5|   14|\n",
      "|XetqQFNRm_lqfNZ6Y...|  2.5|    7|\n",
      "|ZdF_p8ff2pNuZcX_A...|  3.5|    3|\n",
      "|lgdde-A-rnzOw9ybm...|  3.5|   59|\n",
      "|qzPW50oW2TN1yG8XK...|  3.5|    3|\n",
      "|rDpX16jDGa4YGiycp...|  4.0|    3|\n",
      "|z5QStGLj6ua31xXnN...|  5.0|    6|\n",
      "|412zay6TFdL20X764...|  2.5|    6|\n",
      "+--------------------+-----+-----+\n",
      "only showing top 20 rows\n",
      "\n"
     ]
    }
   ],
   "source": [
    "df_business.groupBy(\"business_id\", \"stars\").count().show()\n"
   ]
  },
  {
   "cell_type": "code",
   "execution_count": 36,
   "metadata": {
    "scrolled": false
   },
   "outputs": [
    {
     "name": "stdout",
     "output_type": "stream",
     "text": [
      "+--------------------+--------------------+--------------------+--------------------+----------+--------------------+-------+----------+-----------+--------------------+-----------+---------+------------+--------------------+-----+-----+--------------------+--------------------+\n",
      "|             address|          attributes|         business_id|          categories|      city|               hours|is_open|  latitude|  longitude|                name|postal_code|rev_stars|review_count|           review_id|stars|state|                text|             user_id|\n",
      "+--------------------+--------------------+--------------------+--------------------+----------+--------------------+-------+----------+-----------+--------------------+-----------+---------+------------+--------------------+-----+-----+--------------------+--------------------+\n",
      "|     61 Queen Street|[,, 'none', {'rom...|FByZsT1Sob5Vf1AYJ...|Indian, Pakistani...|     Leeds|                null|      1|43.6528212|-79.3763454|         Desi Masala|   LS27 8EB|      5.0|           5|-DeNn1xqFaF2Zw0vM...|  4.5|  XWY|Arrived a tad lat...|Zbp8PfJVqNzkrKT4t...|\n",
      "| 37 Monk Bridge Road|[,, u'none',,,,,,...|44xjnQMwAQjgZ80MW...|Bakeries, Food, D...|     Leeds|[7:0-15:0, 7:0-15...|      1| 45.456999|  -73.59525| No. 37 Sandwich Bar|    LS6 4EP|      5.0|           3|NCocgnvbJpn-voBYT...|  4.5|  XWY|This little cake ...|GWezFtwZTpt9DoDaq...|\n",
      "|     61 Queen Street|[,, 'none', {'rom...|FByZsT1Sob5Vf1AYJ...|Indian, Pakistani...|     Leeds|                null|      1|43.6528212|-79.3763454|         Desi Masala|   LS27 8EB|      5.0|           5|ItpFSuP1sRbwbtgOZ...|  4.5|  XWY|This is by far th...|VbsMgQ3uWlbX2OU0a...|\n",
      "| 37 Monk Bridge Road|[,, u'none',,,,,,...|44xjnQMwAQjgZ80MW...|Bakeries, Food, D...|     Leeds|[7:0-15:0, 7:0-15...|      1| 45.456999|  -73.59525| No. 37 Sandwich Bar|    LS6 4EP|      5.0|           3|82igcStJdfoJMMlGX...|  4.5|  XWY|What incited me t...|zAvtU9NmKCDnd086V...|\n",
      "| 37 Monk Bridge Road|[,, u'none',,,,,,...|44xjnQMwAQjgZ80MW...|Bakeries, Food, D...|     Leeds|[7:0-15:0, 7:0-15...|      1| 45.456999|  -73.59525| No. 37 Sandwich Bar|    LS6 4EP|      4.0|           3|R8KTKaDhE-vD6T-ZF...|  4.5|  XWY|One of the few re...|kkwbEHdl4jC-qmz_4...|\n",
      "|     61 Queen Street|[,, 'none', {'rom...|FByZsT1Sob5Vf1AYJ...|Indian, Pakistani...|     Leeds|                null|      1|43.6528212|-79.3763454|         Desi Masala|   LS27 8EB|      4.0|           5|W3uiphF7mJtLimrRl...|  4.5|  XWY|If you drove past...|7fJynXk6Qln9jGvRZ...|\n",
      "|     61 Queen Street|[,, 'none', {'rom...|FByZsT1Sob5Vf1AYJ...|Indian, Pakistani...|     Leeds|                null|      1|43.6528212|-79.3763454|         Desi Masala|   LS27 8EB|      5.0|           5|CsGlFQ6LcAxeIc-jj...|  4.5|  XWY|Desi Masala Is By...|1UtqnWLKgJ3dpy7ZY...|\n",
      "|     61 Queen Street|[,, 'none', {'rom...|FByZsT1Sob5Vf1AYJ...|Indian, Pakistani...|     Leeds|                null|      1|43.6528212|-79.3763454|         Desi Masala|   LS27 8EB|      3.0|           5|pQDhXAzRTqAwHmbEN...|  4.5|  XWY|This place was ea...|IL92sXwOHCIrzLqbS...|\n",
      "|                    |                null|ZsL7FUkaWdyQnDoYB...|Chinese, Restaurants|    Oldham|                null|      1|42.9960594| -89.568889|Happy Gathering R...|    OL2 6PX|      4.0|           3|FHvN7qeeClh5i6R8r...|  4.0|  XGM|Happy Gathering R...|Auqu_6XtjK6qKC7aF...|\n",
      "|The Old Sorting O...|[,,,,,,, True,,, ...|8_GNJU3EPar9VkPzJ...|Arts & Crafts, Sh...|      Sale|[8:30-19:0, 8:30-...|      1|42.9960594| -89.568889|Bean & Brush Fami...|    M33 7XW|      3.0|           4|AkwfKp0wYOymr5-Wn...|  4.0|  XGM|The Bean and Brus...|kq14OQUFh-fsOeJtc...|\n",
      "|Gorebrook Works, ...|[,,,,,,,,,, {'gar...|6dhkHf-CFHr7C8wj-...|Art Supplies, Art...|Manchester|                null|      1|42.9960594| -89.568889|          Paper Cutz|    M12 5GH|      1.0|           3|cAIhGJ7dFslAAuYis...|  2.5|  XGM|Have purchased se...|s8g9eoKgEUocXjbCU...|\n",
      "|The Old Sorting O...|[,,,,,,, True,,, ...|8_GNJU3EPar9VkPzJ...|Arts & Crafts, Sh...|      Sale|[8:30-19:0, 8:30-...|      1|42.9960594| -89.568889|Bean & Brush Fami...|    M33 7XW|      4.0|           4|fPVgvQUL6nedd8JT6...|  4.0|  XGM|Well I was critic...|MNmGprqfgj5GMcO81...|\n",
      "|                    |[,,,,,,,, False,,...|JNZeVq9jr9AWURmnM...|Home Services, La...|      Bury|[0:0-0:0, 0:0-0:0...|      1|42.9960594| -89.568889|Total Gardening a...|    BL8 4DR|      5.0|           3|bCzGS9xQjkoOniPsl...|  5.0|  XGM|Thank you very mu...|oyjviHoedAeC_o6xB...|\n",
      "|Gorebrook Works, ...|[,,,,,,,,,, {'gar...|6dhkHf-CFHr7C8wj-...|Art Supplies, Art...|Manchester|                null|      1|42.9960594| -89.568889|          Paper Cutz|    M12 5GH|      5.0|           3|Ef7uTnHAfcwAV4FKU...|  2.5|  XGM|Great for crafter...|cYW7Wmfv0vBJ9M8cy...|\n",
      "|The Old Sorting O...|[,,,,,,, True,,, ...|8_GNJU3EPar9VkPzJ...|Arts & Crafts, Sh...|      Sale|[8:30-19:0, 8:30-...|      1|42.9960594| -89.568889|Bean & Brush Fami...|    M33 7XW|      2.0|           4|_cH0Pc1npvl1YE3u6...|  4.0|  XGM|This place is kid...|MNmGprqfgj5GMcO81...|\n",
      "|                    |                null|ZsL7FUkaWdyQnDoYB...|Chinese, Restaurants|    Oldham|                null|      1|42.9960594| -89.568889|Happy Gathering R...|    OL2 6PX|      4.0|           3|O14RpBRsPKQtnVk8W...|  4.0|  XGM|Gorgeous restaura...|-Bps7XxOw0JAnW79t...|\n",
      "|                    |[,,,,,,,, False,,...|JNZeVq9jr9AWURmnM...|Home Services, La...|      Bury|[0:0-0:0, 0:0-0:0...|      1|42.9960594| -89.568889|Total Gardening a...|    BL8 4DR|      5.0|           3|8Q8r16QDh7LkapcrC...|  5.0|  XGM|I used Martin and...|jMu-Nthrqcs9QU6CJ...|\n",
      "|                    |[,,,,,,,, False,,...|JNZeVq9jr9AWURmnM...|Home Services, La...|      Bury|[0:0-0:0, 0:0-0:0...|      1|42.9960594| -89.568889|Total Gardening a...|    BL8 4DR|      5.0|           3|x0IKEqpEKa-0zE-JN...|  5.0|  XGM|Great Company, Gr...|z0VoQUHIflp2IR8wT...|\n",
      "|The Old Sorting O...|[,,,,,,, True,,, ...|8_GNJU3EPar9VkPzJ...|Arts & Crafts, Sh...|      Sale|[8:30-19:0, 8:30-...|      1|42.9960594| -89.568889|Bean & Brush Fami...|    M33 7XW|      4.0|           4|3de1CrMwyU2osqwrO...|  4.0|  XGM|Great place which...|_7P-epn027LzqPW07...|\n",
      "|The Old Sorting O...|[,,,,,,, True,,, ...|8_GNJU3EPar9VkPzJ...|Arts & Crafts, Sh...|      Sale|[8:30-19:0, 8:30-...|      1|42.9960594| -89.568889|Bean & Brush Fami...|    M33 7XW|      5.0|           4|WUIqiK1Zh_0om0EhY...|  4.0|  XGM|We had a great da...|sgFfRNs9Pd0mAuIj8...|\n",
      "+--------------------+--------------------+--------------------+--------------------+----------+--------------------+-------+----------+-----------+--------------------+-----------+---------+------------+--------------------+-----+-----+--------------------+--------------------+\n",
      "only showing top 20 rows\n",
      "\n"
     ]
    }
   ],
   "source": [
    "df_business = df_business.orderBy(df_business.state.desc())\n"
   ]
  },
  {
   "cell_type": "code",
   "execution_count": 50,
   "metadata": {},
   "outputs": [
    {
     "name": "stdout",
     "output_type": "stream",
     "text": [
      "+---------+-----+\n",
      "|     city|count|\n",
      "+---------+-----+\n",
      "| Avondale|   11|\n",
      "|Las Vegas|    3|\n",
      "+---------+-----+\n",
      "\n"
     ]
    }
   ],
   "source": [
    "df_business.filter(df_business.state == \"GA\").groupBy(\"city\").count().show(200)\n"
   ]
  },
  {
   "cell_type": "code",
   "execution_count": 5,
   "metadata": {},
   "outputs": [
    {
     "name": "stdout",
     "output_type": "stream",
     "text": [
      "+--------------------+---------+-----+\n",
      "|                name|rev_stars|count|\n",
      "+--------------------+---------+-----+\n",
      "|Pips Cucina & Win...|      4.0|    2|\n",
      "|Perfect Tint & Se...|      5.0|    3|\n",
      "|      The Shade Tree|      5.0|    6|\n",
      "|GEICO Insurance A...|      4.0|    1|\n",
      "| Attack Pest Control|      5.0|    7|\n",
      "|Batteries Plus Bulbs|      4.0|    4|\n",
      "|        Golden Spoon|      5.0|    1|\n",
      "|  Jack's Tax Service|      5.0|   18|\n",
      "|Korner Kwik Lube ...|      5.0|   32|\n",
      "|  Paws On the Ground|      5.0|    4|\n",
      "|REAL RESULTS Fitn...|      5.0|    5|\n",
      "|Tule Springs Foss...|      4.0|    1|\n",
      "|Skip's Puppy Poo-...|      4.0|    1|\n",
      "|          PrideStaff|      5.0|    2|\n",
      "|Alexander Dental ...|      4.0|    3|\n",
      "|       Go For It USA|      4.0|    4|\n",
      "|Ted Wiens Tire & ...|      4.0|    4|\n",
      "|Vision Source - N...|      4.0|    1|\n",
      "|                IHOP|      5.0|   20|\n",
      "|Barrett Pool and ...|      5.0|    2|\n",
      "+--------------------+---------+-----+\n",
      "only showing top 20 rows\n",
      "\n"
     ]
    }
   ],
   "source": [
    "df_business.filter((col(\"rev_stars\") >= 4 ) & (col(\"state\") == 'NV') & (col(\"city\") == 'North Las Vegas')).groupBy(\"name\", \"rev_stars\").count().show()\n",
    "\n"
   ]
  },
  {
   "cell_type": "code",
   "execution_count": 55,
   "metadata": {
    "scrolled": false
   },
   "outputs": [
    {
     "name": "stdout",
     "output_type": "stream",
     "text": [
      "+-------------------------------------------------------------------------------------------------------------------------------------------------+-----+\n",
      "|categories                                                                                                                                       |count|\n",
      "+-------------------------------------------------------------------------------------------------------------------------------------------------+-----+\n",
      "|Health & Medical, Dentists, Oral Surgeons, Doctors, Cosmetic Dentists                                                                            |20   |\n",
      "|Music & DVDs, Videos & Video Game Rental, Vinyl Records, Books, Mags, Music & Video, Shopping                                                    |3    |\n",
      "|Parks, Active Life, Dog Parks                                                                                                                    |252  |\n",
      "|Breakfast & Brunch, Burgers, Sandwiches, Restaurants, American (Traditional)                                                                     |2583 |\n",
      "|Adult Entertainment, Nightlife, Bars, Strip Clubs                                                                                                |18   |\n",
      "|Health & Medical, Optometrists, Shopping, Eyewear & Opticians, Laser Eye Surgery/Lasik                                                           |3    |\n",
      "|Used, Vintage & Consignment, Fashion, Shopping                                                                                                   |383  |\n",
      "|Spiritual Shop, Art Supplies, Arts & Crafts, Shopping                                                                                            |3    |\n",
      "|Dance Clubs, Nightlife, Comedy Clubs, Bars                                                                                                       |22   |\n",
      "|Shopping, Sporting Goods, Local Services, Automotive, Motorcycle Dealers, Bikes, Bike Repair/Maintenance                                         |6    |\n",
      "|Restaurants, Indian, Italian                                                                                                                     |44   |\n",
      "|Dentists, General Dentistry, Health & Medical, Cosmetic Dentists, Doctors, Pediatricians, Endodontists                                           |4    |\n",
      "|Cheese Shops, Delis, Sandwiches, Restaurants, Food, Specialty Food                                                                               |6    |\n",
      "|Fitness & Instruction, Health & Medical, Gyms, Nutritionists, Active Life                                                                        |3    |\n",
      "|Automotive, Car Dealers, Auto Parts & Supplies, Auto Repair                                                                                      |1207 |\n",
      "|Restaurants, Breakfast & Brunch, Sandwiches, American (Traditional)                                                                              |457  |\n",
      "|Day Spas, Massage, Skin Care, Beauty & Spas                                                                                                      |292  |\n",
      "|Pizza, Beer, Wine & Spirits, Food, Restaurants, Nightlife, American (Traditional), Chicken Wings, Sports Bars, Bars                              |54   |\n",
      "|Meat Shops, Specialty Food, Seafood Markets, Restaurants, Seafood, Grocery, Food                                                                 |219  |\n",
      "|American (Traditional), Nightlife, Sports Bars, Pubs, Bars, Restaurants                                                                          |55   |\n",
      "|Women's Clothing, Fashion, Accessories, Men's Clothing, Shopping                                                                                 |12   |\n",
      "|Window Washing, Home & Garden, Local Services, Home Cleaning, Professional Services, Carpet Cleaning, Shopping, Home Services                    |12   |\n",
      "|Hair Removal, Beauty & Spas, Threading Services, Skin Care, Waxing, Day Spas, Massage                                                            |13   |\n",
      "|Restaurants, Pizza, Gluten-Free, Italian                                                                                                         |6    |\n",
      "|Food Delivery Services, Food, Restaurants, Pizza                                                                                                 |21   |\n",
      "|Active Life, Gyms, Boot Camps, Fitness & Instruction, Interval Training Gyms, Trainers                                                           |11   |\n",
      "|Cosmetic Dentists, Health & Medical, Pediatric Dentists, General Dentistry, Dentists                                                             |5    |\n",
      "|Used Bookstore, Local Services, Bookstores, Books, Mags, Music & Video, Community Service/Non-Profit, Shopping                                   |4    |\n",
      "|Cinema, Restaurants, Shopping, Shopping Centers, Arts & Entertainment                                                                            |76   |\n",
      "|Electronics, Shopping, Home Theatre Installation, Automotive, Car Stereo Installation, Home Services                                             |12   |\n",
      "|Movers, Professional Services, Home Services                                                                                                     |13   |\n",
      "|Eyewear & Opticians, Ophthalmologists, Health & Medical, Shopping, Optometrists, Doctors                                                         |74   |\n",
      "|Desserts, Bakeries, Coffee & Tea, Food                                                                                                           |127  |\n",
      "|Mexican, Fast Food, Restaurants, Tex-Mex, Breakfast & Brunch                                                                                     |29   |\n",
      "|Seafood, American (Traditional), Restaurants                                                                                                     |558  |\n",
      "|Laundry Services, Sewing & Alterations, Dry Cleaning, Local Services                                                                             |8    |\n",
      "|Health & Medical, Doctors, Pulmonologist                                                                                                         |14   |\n",
      "|Electricians, Solar Installation, Lighting Fixtures & Equipment, Home Services                                                                   |8    |\n",
      "|Hair Removal, Nail Salons, Beauty & Spas, Eyelash Service, Makeup Artists, Waxing                                                                |20   |\n",
      "|Automotive, Auto Customization, Auto Detailing, RV Repair, Auto Repair                                                                           |10   |\n",
      "|Chinese, Local Flavor, Japanese, Restaurants                                                                                                     |7    |\n",
      "|Tax Services, Financial Services, Accountants, Professional Services                                                                             |15   |\n",
      "|Restaurants, Chicken Wings, Sandwiches, Pizza                                                                                                    |185  |\n",
      "|Registration Services, Automotive                                                                                                                |68   |\n",
      "|Ice Cream & Frozen Yogurt, Fast Food, Burgers, Food, American (Traditional), Restaurants                                                         |210  |\n",
      "|Chiropractors, Health & Medical, Massage Therapy, Medical Centers                                                                                |3    |\n",
      "|Home & Garden, Women's Clothing, Department Stores, Jewelry, Shopping, Accessories, Fashion, Shoe Stores, Men's Clothing, Home Decor             |12   |\n",
      "|Photographers, Event Planning & Services, Session Photography, Event Photography                                                                 |41   |\n",
      "|Automotive, Windshield Installation & Repair, Auto Glass Services, Body Shops                                                                    |149  |\n",
      "|Parks, Active Life, Disc Golf                                                                                                                    |17   |\n",
      "|Bars, Burgers, Nightlife, Restaurants                                                                                                            |14   |\n",
      "|Roofing, Home Services, Painters, Contractors                                                                                                    |3    |\n",
      "|Computers, Shopping, Mobile Phone Repair, Mobile Phones, Local Services, IT Services & Computer Repair                                           |6    |\n",
      "|Event Planning & Services, Photographers, Session Photography, Event Photography                                                                 |59   |\n",
      "|Desserts, Tex-Mex, Food, Restaurants, Mexican, Asian Fusion, Hawaiian                                                                            |159  |\n",
      "|Flowers & Gifts, Florists, Food, Shopping, Grocery                                                                                               |21   |\n",
      "|Chicken Wings, Fast Food, Restaurants, Chicken Shop                                                                                              |156  |\n",
      "|Event Planning & Services, Beauty & Spas, Tattoo, Officiants, Permanent Makeup                                                                   |4    |\n",
      "|Contractors, Water Purification Services, Tiling, Home Services, Plumbing, Flooring                                                              |9    |\n",
      "|Cosmetics & Beauty Supply, Beauty & Spas, Convenience Stores, Food, Health & Medical, Pharmacy, Shopping, Medical Centers, Drugstores            |4    |\n",
      "|Food, Creperies, Restaurants, Cafes, Desserts, Ice Cream & Frozen Yogurt                                                                         |33   |\n",
      "|Health & Medical, Reiki                                                                                                                          |32   |\n",
      "|Appliances & Repair, Heating & Air Conditioning/HVAC, Local Services, Home Services                                                              |27   |\n",
      "|Restaurants, Indian, Food, Local Flavor, Food Trucks                                                                                             |4    |\n",
      "|Bikes, Local Services, Bike Rentals, Sporting Goods, Bike Repair/Maintenance, Hotels & Travel, Tours, Mountain Biking, Active Life, Shopping     |51   |\n",
      "|Food Delivery Services, Restaurants, Food, Asian Fusion, Chinese                                                                                 |3    |\n",
      "|Health & Medical, Doctors, Obstetricians & Gynecologists, Counseling & Mental Health                                                             |3    |\n",
      "|Sandwiches, Restaurants, Nightlife, Vegetarian, Bars                                                                                             |4    |\n",
      "|Bakeries, Food, Patisserie/Cake Shop                                                                                                             |52   |\n",
      "|Italian, French, Restaurants                                                                                                                     |95   |\n",
      "|Restaurants, Breakfast & Brunch, Coffee & Tea, Food, Internet Cafes                                                                              |16   |\n",
      "|Arts & Entertainment, Shopping, Beauty & Spas, Tobacco Shops, Piercing, Tattoo, Art Galleries                                                    |23   |\n",
      "|Food, Specialty Food, Fruits & Veggies, Farmers Market                                                                                           |318  |\n",
      "|Cosmetology Schools, Specialty Schools, Day Spas, Massage, Skin Care, Party & Event Planning, Beauty & Spas, Education, Event Planning & Services|22   |\n",
      "|Hotels & Travel, Limos, Taxis, Airport Shuttles, Transportation                                                                                  |30   |\n",
      "|Check Cashing/Pay-day Loans, Financial Services, Banks & Credit Unions                                                                           |5    |\n",
      "|Restaurants, Steakhouses, Delis, Food                                                                                                            |7    |\n",
      "|Steakhouses, Sandwiches, American (Traditional), Fast Food, Restaurants, American (New)                                                          |18   |\n",
      "|Venues & Event Spaces, Hotels & Travel, Hotels, Event Planning & Services                                                                        |663  |\n",
      "|Periodontists, General Dentistry, Cosmetic Dentists, Health & Medical, Dentists, Pediatric Dentists                                              |3    |\n",
      "|Makeup Artists, Hair Salons, Beauty & Spas                                                                                                       |253  |\n",
      "|Pet Services, Pet Stores, Aquarium Services, Local Fish Stores, Pets                                                                             |23   |\n",
      "|Shoe Stores, Adult, Accessories, Fashion, Shopping                                                                                               |6    |\n",
      "|Preschools, Local Services, Education, Summer Camps, Active Life, Child Care & Day Care                                                          |16   |\n",
      "|Home Network Installation, IT Services & Computer Repair, Shopping, Data Recovery, Home Services, Electronics Repair, Computers, Local Services  |10   |\n",
      "|Barbeque, Restaurants, Comfort Food                                                                                                              |12   |\n",
      "|Hair Removal, Nail Salons, Beauty & Spas, Waxing, Massage                                                                                        |20   |\n",
      "|Makeup Artists, Skin Care, Health & Medical, Waxing, Hair Removal, Beauty & Spas                                                                 |12   |\n",
      "|Coffee & Tea, Bakeries, Sandwiches, Restaurants, Food, Vegan, Desserts                                                                           |64   |\n",
      "|Periodontists, Endodontists, General Dentistry, Cosmetic Dentists, Dentists, Orthodontists, Health & Medical                                     |61   |\n",
      "|Nightlife, Bars, Sports Bars, Gay Bars                                                                                                           |51   |\n",
      "|Drugstores, Department Stores, Shopping, Fashion                                                                                                 |113  |\n",
      "|Automotive, Truck Rental                                                                                                                         |55   |\n",
      "|Hardware Stores, Office Equipment, Home & Garden, Shopping, Home Services, Keys & Locksmiths                                                     |3    |\n",
      "|Teacher Supplies, Shopping, Art Supplies, Education, Office Equipment, Toy Stores, Arts & Crafts                                                 |3    |\n",
      "|Pets, Pet Sitting, Pet Services, Dog Walkers                                                                                                     |73   |\n",
      "|Cremation Services, Local Services, Funeral Services & Cemeteries                                                                                |84   |\n",
      "|Fitness & Instruction, Active Life, Gyms, Boxing                                                                                                 |4    |\n",
      "|Doctors, Internal Medicine, Health & Medical, Medical Centers                                                                                    |21   |\n",
      "|Hair Extensions, Beauty & Spas, Hair Salons, Blow Dry/Out Services                                                                               |6    |\n",
      "+-------------------------------------------------------------------------------------------------------------------------------------------------+-----+\n",
      "only showing top 100 rows\n",
      "\n"
     ]
    }
   ],
   "source": [
    "df_business.select(\"categories\").groupBy(\"categories\").count().show(100, False)"
   ]
  },
  {
   "cell_type": "code",
   "execution_count": 60,
   "metadata": {
    "scrolled": false
   },
   "outputs": [
    {
     "name": "stdout",
     "output_type": "stream",
     "text": [
      "+---------------------------------------------------------------------------------------------------------------------------------------------------------------------------------------+-----+\n",
      "|categories                                                                                                                                                                             |count|\n",
      "+---------------------------------------------------------------------------------------------------------------------------------------------------------------------------------------+-----+\n",
      "|Shopping, Sporting Goods, Local Services, Automotive, Motorcycle Dealers, Bikes, Bike Repair/Maintenance                                                                               |6    |\n",
      "|Automotive, Car Dealers, Auto Parts & Supplies, Auto Repair                                                                                                                            |1207 |\n",
      "|Electronics, Shopping, Home Theatre Installation, Automotive, Car Stereo Installation, Home Services                                                                                   |12   |\n",
      "|Automotive, Auto Customization, Auto Detailing, RV Repair, Auto Repair                                                                                                                 |10   |\n",
      "|Registration Services, Automotive                                                                                                                                                      |68   |\n",
      "|Automotive, Windshield Installation & Repair, Auto Glass Services, Body Shops                                                                                                          |149  |\n",
      "|Automotive, Truck Rental                                                                                                                                                               |55   |\n",
      "|Automotive, Smog Check Stations, Auto Repair, Oil Change Stations                                                                                                                      |88   |\n",
      "|Automotive, Auto Repair, Car Stereo Installation, Oil Change Stations, Auto Customization                                                                                              |12   |\n",
      "|Contractors, Vehicle Wraps, Home Services, Car Stereo Installation, Windshield Installation & Repair, Auto Glass Services, Automotive                                                  |3    |\n",
      "|Used Car Dealers, Car Dealers, Financial Services, Auto Loan Providers, Automotive, Auto Repair                                                                                        |13   |\n",
      "|Home Window Tinting, Body Shops, Windshield Installation & Repair, Professional Services, Car Window Tinting, Home Services, Signmaking, Automotive, Vehicle Wraps, Auto Glass Services|13   |\n",
      "|Car Wash, Automotive, Auto Detailing, Auto Repair                                                                                                                                      |27   |\n",
      "|Truck Rental, Movers, Local Services, Propane, Self Storage, Automotive, Home Services                                                                                                 |7    |\n",
      "|Automotive, Local Services, Auto Repair, Towing, Car Rental, Hotels & Travel                                                                                                           |11   |\n",
      "|Coffee & Tea, Grocery, Automotive, Gas Stations, Food, Convenience Stores                                                                                                              |4    |\n",
      "|Car Dealers, Auto Repair, Automotive, Tires, Used Car Dealers                                                                                                                          |3    |\n",
      "|Convenience Stores, Automotive, Coffee & Tea, Grocery, Gas Stations, Food                                                                                                              |6    |\n",
      "|Drugstores, Grocery, Gas Stations, Automotive, Shopping, Convenience Stores, Food                                                                                                      |86   |\n",
      "|Parking, Valet Services, Automotive, Event Planning & Services                                                                                                                         |7    |\n",
      "|Local Services, Professional Services, Car Wash, Automotive, Auto Detailing                                                                                                            |25   |\n",
      "|Auto Customization, Powder Coating, Local Services, Automotive, Body Shops, Vehicle Wraps                                                                                              |37   |\n",
      "|Tires, Oil Change Stations, Auto Parts & Supplies, Automotive, Smog Check Stations, Auto Repair                                                                                        |3    |\n",
      "|Motorcycle Repair, Automotive, Active Life, Boating                                                                                                                                    |3    |\n",
      "|Truck Rental, Auto Detailing, Car Wash, Automotive                                                                                                                                     |18   |\n",
      "|Auto Repair, Automotive, Oil Change Stations, Auto Glass Services, Transmission Repair                                                                                                 |28   |\n",
      "|Car Rental, Hotels & Travel, Automotive                                                                                                                                                |39   |\n",
      "|Hardware Stores, Home & Garden, Tires, Auto Repair, Shopping, Auto Parts & Supplies, Automotive                                                                                        |3    |\n",
      "|Wheel & Rim Repair, Automotive, Auto Parts & Supplies, Tires                                                                                                                           |530  |\n",
      "|Oil Change Stations, Auto Repair, Auto Parts & Supplies, Tires, Automotive                                                                                                             |4    |\n",
      "|Auto Repair, Auto Customization, Automotive, Car Dealers                                                                                                                               |5    |\n",
      "|Motorcycle Repair, Auto Parts & Supplies, Motorcycle Dealers, Automotive, Boat Dealers                                                                                                 |3    |\n",
      "|Windshield Installation & Repair, Body Shops, Automotive, Auto Repair                                                                                                                  |15   |\n",
      "|Auto Repair, Automotive, Oil Change Stations, Auto Detailing                                                                                                                           |11   |\n",
      "|RV Repair, Automotive                                                                                                                                                                  |22   |\n",
      "|Automotive, Financial Services, Hotels & Travel, Insurance, Auto Repair, Tours, Travel Services                                                                                        |116  |\n",
      "|Car Dealers, Nightlife, Automotive, Buffets, Wine Bars, Bars, Thai, Restaurants, Seafood                                                                                               |4131 |\n",
      "|Hotels & Travel, Car Rental, Auto Customization, Body Shops, Auto Repair, Automotive                                                                                                   |6    |\n",
      "|Towing, Junk Removal & Hauling, Auto Customization, Auto Repair, Auto Parts & Supplies, Automotive, Local Services                                                                     |3    |\n",
      "|Transmission Repair, Oil Change Stations, Windshield Installation & Repair, Automotive                                                                                                 |7    |\n",
      "|Automotive, Auto Parts & Supplies, Auto Detailing                                                                                                                                      |3    |\n",
      "|Body Shops, Automotive, Auto Repair, Car Dealers, Auto Parts & Supplies                                                                                                                |64   |\n",
      "|Automotive, Movers, Self Storage, Junk Removal & Hauling, Home Services, Truck Rental, Local Services, Packing Services                                                                |49   |\n",
      "|Local Services, Dry Cleaning & Laundry, Automotive, Car Wash, Laundry Services                                                                                                         |4    |\n",
      "|Auto Repair, Auto Parts & Supplies, Towing, Automotive, Car Dealers                                                                                                                    |20   |\n",
      "|Auto Repair, Social Clubs, Automotive, Professional Services, Motorsport Vehicle Repairs, Commercial Truck Repair, Arts & Entertainment, Boat Repair                                   |8    |\n",
      "|Automotive, Tires, Auto Repair, Oil Change Stations, Auto Detailing                                                                                                                    |6    |\n",
      "|Automotive, Car Stereo Installation, Electronics, Auto Security, Shopping                                                                                                              |65   |\n",
      "|Shopping, Automotive, Medical Supplies, Mobility Equipment Sales & Services                                                                                                            |4    |\n",
      "|Auto Repair, Automotive, Car Rental, Hotels & Travel, Car Dealers                                                                                                                      |8    |\n",
      "|Hotels & Travel, Car Rental, Auto Repair, Car Dealers, Automotive                                                                                                                      |7    |\n",
      "|Automotive, Movers, Home Services, Junk Removal & Hauling, Local Services, Vehicle Shipping                                                                                            |11   |\n",
      "|Auto Detailing, Automotive, Car Stereo Installation, Auto Parts & Supplies                                                                                                             |14   |\n",
      "|Auto Loan Providers, Title Loans, Financial Services, Automotive, Installment Loans, Check Cashing/Pay-day Loans                                                                       |4    |\n",
      "|Tires, Auto Parts & Supplies, Automotive, Auto Repair, Oil Change Stations                                                                                                             |17   |\n",
      "|Auto Glass Services, Auto Repair, Windshield Installation & Repair, Automotive                                                                                                         |81   |\n",
      "|Auto Insurance, Financial Services, Life Insurance, Home & Rental Insurance, Insurance                                                                                                 |10   |\n",
      "|Windshield Installation & Repair, Automotive, Auto Glass Services, Auto Detailing, Car Window Tinting, Vehicle Wraps                                                                   |48   |\n",
      "|Gas Stations, Automotive, Food, Convenience Stores                                                                                                                                     |102  |\n",
      "|Oil Change Stations, Auto Repair, Automotive, Motorcycle Repair                                                                                                                        |94   |\n",
      "|Oil Change Stations, Automotive, Car Wash                                                                                                                                              |37   |\n",
      "|Auto Repair, Automotive, Hardware Stores, Shopping, Home & Garden                                                                                                                      |30   |\n",
      "|Auto Loan Providers, Banks & Credit Unions, Automotive, Financial Services                                                                                                             |4    |\n",
      "|Oil Change Stations, Automotive, Car Dealers, Auto Repair                                                                                                                              |38   |\n",
      "|Home Services, Home Theatre Installation, Local Services, Home Automation, TV Mounting                                                                                                 |10   |\n",
      "|Automotive, Auto Security, Keys & Locksmiths, Home Services, Local Services, Security Systems, Mobile Home Repair                                                                      |96   |\n",
      "|Windshield Installation & Repair, Car Window Tinting, Windows Installation, Automotive, Shades & Blinds, Vehicle Wraps, Home Window Tinting, Auto Glass Services, Home Services        |16   |\n",
      "|Oil Change Stations, Auto Repair, Tires, Automotive, Wheel & Rim Repair                                                                                                                |26   |\n",
      "|Body Shops, Automotive, Car Dealers                                                                                                                                                    |4    |\n",
      "|Auto Glass Services, Car Window Tinting, Windshield Installation & Repair, Automotive                                                                                                  |32   |\n",
      "|Car Dealers, Automotive, Car Buyers                                                                                                                                                    |49   |\n",
      "|Automotive, Car Dealers, Auto Repair, Car Rental, Hotels & Travel                                                                                                                      |27   |\n",
      "|Department Stores, Tires, Wholesale Stores, Fashion, Shopping, Automotive                                                                                                              |37   |\n",
      "|Automotive, Used Car Dealers, Auto Loan Providers, Car Dealers                                                                                                                         |4    |\n",
      "|Auto Parts & Supplies, Body Shops, Auto Repair, Automotive                                                                                                                             |3    |\n",
      "|Body Shops, Automotive, Auto Detailing, Auto Customization                                                                                                                             |4    |\n",
      "|Tires, Auto Parts & Supplies, Automotive, Auto Detailing, Oil Change Stations                                                                                                          |3    |\n",
      "|Smog Check Stations, Automotive, Transmission Repair, Auto Repair, Oil Change Stations                                                                                                 |89   |\n",
      "|Restaurants, Gas Stations, Coffee & Tea, Automotive, Food, Fast Food, Convenience Stores                                                                                               |3    |\n",
      "|Local Services, Home Services, Self Storage, Movers, Truck Rental, Automotive                                                                                                          |4    |\n",
      "|Registration Services, Automotive, Car Inspectors, Smog Check Stations                                                                                                                 |9    |\n",
      "|Auto Customization, Automotive, Body Shops, Auto Repair, Auto Detailing, Car Wash                                                                                                      |12   |\n",
      "|Home Theatre Installation, IT Services & Computer Repair, Home Automation, TV Mounting, Local Services, Home Services                                                                  |21   |\n",
      "|Oil Change Stations, Auto Parts & Supplies, Tires, Automotive, Auto Repair                                                                                                             |19   |\n",
      "|Gas Stations, Tires, Oil Change Stations, Automotive, Auto Repair                                                                                                                      |5    |\n",
      "|Grocery, Food, Convenience Stores, Automotive, Gas Stations                                                                                                                            |5    |\n",
      "|Home & Rental Insurance, Life Insurance, Auto Insurance, Insurance, Financial Services                                                                                                 |27   |\n",
      "|Auto Glass Services, Windows Installation, Automotive, Home Services, Glass & Mirrors, Windshield Installation & Repair                                                                |8    |\n",
      "|Bike Repair/Maintenance, Auto Repair, Sporting Goods, Motorcycle Dealers, Automotive, Bikes, Shopping, Local Services, Motorcycle Repair                                               |24   |\n",
      "|Auto Repair, Body Shops, Auto Detailing, Automotive, Car Dealers                                                                                                                       |5    |\n",
      "|Automotive, Car Dealers, Auto Repair, Auto Customization, Used Car Dealers                                                                                                             |13   |\n",
      "|Auto Parts & Supplies, Automotive, Windshield Installation & Repair, Auto Repair                                                                                                       |4    |\n",
      "|Automotive, Self Storage, Truck Rental, Local Services                                                                                                                                 |3    |\n",
      "|Electronics, Auto Security, Car Stereo Installation, Automotive, Shopping                                                                                                              |43   |\n",
      "|Motorcycle Gear, Car Dealers, Auto Parts & Supplies, Shopping, Auto Repair, Motorcycle Dealers, Auto Loan Providers, Automotive                                                        |8    |\n",
      "|Tires, Transmission Repair, Auto Repair, Automotive, Oil Change Stations                                                                                                               |20   |\n",
      "|Oil Change Stations, Automotive, Body Shops, Tires, Auto Repair                                                                                                                        |14   |\n",
      "|Shopping, Trailer Dealers, Livestock Feed & Supply, Automotive, Auto Parts & Supplies                                                                                                  |4    |\n",
      "|Auto Repair, Car Dealers, Automotive, RV Dealers                                                                                                                                       |35   |\n",
      "|Auto Repair, Tires, Automotive, Gas Stations, Towing                                                                                                                                   |4    |\n",
      "+---------------------------------------------------------------------------------------------------------------------------------------------------------------------------------------+-----+\n",
      "only showing top 100 rows\n",
      "\n"
     ]
    }
   ],
   "source": [
    "df_business.where(col(\"categories\").like(\"%Auto%\")).select(\"categories\").groupBy(\"categories\").count().show(100, False)\n",
    "\n"
   ]
  },
  {
   "cell_type": "code",
   "execution_count": 66,
   "metadata": {
    "scrolled": false
   },
   "outputs": [
    {
     "name": "stdout",
     "output_type": "stream",
     "text": [
      "+----------------------+-------+\n",
      "|RestaurantsPriceRange2|count  |\n",
      "+----------------------+-------+\n",
      "|3                     |523610 |\n",
      "|None                  |677    |\n",
      "|null                  |1177506|\n",
      "|1                     |1355845|\n",
      "|4                     |100846 |\n",
      "|2                     |3527416|\n",
      "+----------------------+-------+\n",
      "\n"
     ]
    }
   ],
   "source": [
    "df_business.select(\"attributes.RestaurantsPriceRange2\").groupBy(\"RestaurantsPriceRange2\").count().show(100, False)\n"
   ]
  },
  {
   "cell_type": "code",
   "execution_count": 70,
   "metadata": {
    "scrolled": false
   },
   "outputs": [
    {
     "name": "stdout",
     "output_type": "stream",
     "text": [
      "+----------------------------------------------------------------------------------------------------------------------------------------------------------------------------------------------+-----+\n",
      "|categories                                                                                                                                                                                    |count|\n",
      "+----------------------------------------------------------------------------------------------------------------------------------------------------------------------------------------------+-----+\n",
      "|Nightlife, Dive Bars, Restaurants, American (Traditional), Bars                                                                                                                               |4    |\n",
      "|Food, Ice Cream & Frozen Yogurt                                                                                                                                                               |5    |\n",
      "|Beauty & Spas, Hair Salons, Barbers                                                                                                                                                           |4    |\n",
      "|Shopping, Mobile Phones                                                                                                                                                                       |3    |\n",
      "|Restaurants, Fast Food, Cheesesteaks                                                                                                                                                          |13   |\n",
      "|Vegetarian, Restaurants, Vegan                                                                                                                                                                |5    |\n",
      "|Pets, Shopping, Pet Stores, Shopping Centers                                                                                                                                                  |4    |\n",
      "|Grocery, Food, Restaurants, Bakeries, British                                                                                                                                                 |5    |\n",
      "|Shopping, Shoe Stores, Sporting Goods, Sports Wear, Accessories, Fashion                                                                                                                      |3    |\n",
      "|Beauty & Spas, Hair Removal, Eyebrow Services, Waxing, Skin Care                                                                                                                              |13   |\n",
      "|Chicken Wings, Restaurants                                                                                                                                                                    |4    |\n",
      "|Toy Stores, Barbeque, Shopping, Restaurants                                                                                                                                                   |4    |\n",
      "|Restaurants, Specialty Food, Food, Canadian (New), Comfort Food, Cheese Shops, Sandwiches                                                                                                     |13   |\n",
      "|Food, Festivals, Arts & Entertainment                                                                                                                                                         |3    |\n",
      "|Building Supplies, Home Services, Countertop Installation, Cabinetry, Shopping, Home & Garden, Contractors, Kitchen & Bath, Home Decor                                                        |3    |\n",
      "|Bookstores, Shopping, Books, Mags, Music & Video                                                                                                                                              |4    |\n",
      "|Local Flavor, Cafes, Restaurants                                                                                                                                                              |8    |\n",
      "|Food, Coffee & Tea                                                                                                                                                                            |5    |\n",
      "|Middle Eastern, Restaurants                                                                                                                                                                   |3    |\n",
      "|Waxing, Day Spas, Hair Removal, Eyelash Service, Beauty & Spas                                                                                                                                |6    |\n",
      "|Rugs, Carpet Cleaning, Home Services, Home & Garden, Carpeting, Local Services, Shopping, Flooring                                                                                            |13   |\n",
      "|Restaurants, Food, American (New), Sandwiches, Coffee & Tea                                                                                                                                   |5    |\n",
      "|Women's Clothing, Fashion, Shopping, Accessories, Men's Clothing                                                                                                                              |20   |\n",
      "|Ethnic Food, Food, Specialty Food, Restaurants, Imported Food, Indian                                                                                                                         |6    |\n",
      "|Restaurants, Breakfast & Brunch                                                                                                                                                               |4    |\n",
      "|Restaurants, Sandwiches, Fast Food                                                                                                                                                            |3    |\n",
      "|Festivals, Arts & Entertainment, Food, Food Trucks                                                                                                                                            |6    |\n",
      "|Hawaiian, Restaurants                                                                                                                                                                         |35   |\n",
      "|Hair Salons, Beauty & Spas                                                                                                                                                                    |3    |\n",
      "|Guamanian, Barbeque, Food Trucks, Restaurants, Food                                                                                                                                           |4    |\n",
      "|Shopping, Home Services, Home Organization, Home & Garden, Home Decor                                                                                                                         |3    |\n",
      "|Restaurants, Caribbean                                                                                                                                                                        |5    |\n",
      "|Bagels, Restaurants, Food, Breakfast & Brunch, Bakeries, Sandwiches                                                                                                                           |17   |\n",
      "|Sandwiches, Burgers, Restaurants                                                                                                                                                              |5    |\n",
      "|French, Restaurants, Breakfast & Brunch, Canadian (New), Wine Bars, Bars, Nightlife                                                                                                           |14   |\n",
      "|Indian, Restaurants                                                                                                                                                                           |3    |\n",
      "|Specialty Food, Ethnic Food, Imported Food, Food                                                                                                                                              |3    |\n",
      "|American (Traditional), Restaurants, Burgers                                                                                                                                                  |10   |\n",
      "|Burgers, Restaurants, Hot Dogs, Fast Food                                                                                                                                                     |3    |\n",
      "|Cafes, Restaurants                                                                                                                                                                            |9    |\n",
      "|Jewelry Repair, Shopping, Local Services, Jewelry, Watch Repair                                                                                                                               |11   |\n",
      "|Shopping, Office Equipment, Computers                                                                                                                                                         |4    |\n",
      "|Chinese, Restaurants                                                                                                                                                                          |3    |\n",
      "|Barbeque, Restaurants                                                                                                                                                                         |3    |\n",
      "|Sporting Goods, Shopping, Bikes, Local Services, Bike Repair/Maintenance                                                                                                                      |3    |\n",
      "|Arts & Crafts, Fabric Stores, Shopping                                                                                                                                                        |5    |\n",
      "|Ice Cream & Frozen Yogurt, Food, Desserts                                                                                                                                                     |5    |\n",
      "|Shopping, Discount Store                                                                                                                                                                      |7    |\n",
      "|Bars, Restaurants, Pubs, Nightlife, American (New)                                                                                                                                            |10   |\n",
      "|Food, Bakeries, Cafes, Coffee & Tea, Restaurants                                                                                                                                              |5    |\n",
      "|Appliances, Home & Garden, Appliances & Repair, Local Services, Shopping                                                                                                                      |5    |\n",
      "|Adult Entertainment, Local Flavor, Arts & Entertainment, Performing Arts, Music Venues, Nightlife                                                                                             |3    |\n",
      "|Bikes, Shopping, Sporting Goods, Transportation, Bike Rentals, Active Life, Hotels & Travel, Local Services                                                                                   |14   |\n",
      "|Home & Garden, Shopping, Mattresses                                                                                                                                                           |3    |\n",
      "|Coffee & Tea, Food                                                                                                                                                                            |3    |\n",
      "|Sandwiches, Restaurants, Breakfast & Brunch                                                                                                                                                   |3    |\n",
      "|Restaurants, Nightlife, American (New), Bars, Adult Entertainment, Sports Bars                                                                                                                |8    |\n",
      "|Lounges, Nightlife, Massage, Beauty & Spas, Massage Therapy, Health & Medical, Bars, Day Spas                                                                                                 |4    |\n",
      "|Food, Ice Cream & Frozen Yogurt, Desserts                                                                                                                                                     |4    |\n",
      "|Restaurants, Burgers, Food                                                                                                                                                                    |5    |\n",
      "|Home & Garden, Home Services, Kitchen & Bath, Shopping, Cabinetry, Building Supplies                                                                                                          |10   |\n",
      "|Food, Organic Stores                                                                                                                                                                          |6    |\n",
      "|Hair Stylists, Beauty & Spas, Makeup Artists, Hair Salons                                                                                                                                     |14   |\n",
      "|Specialty Food, Fruits & Veggies, Farmers Market, Grocery, Food, Organic Stores                                                                                                               |13   |\n",
      "|Pizza, Salad, Restaurants, Fast Food                                                                                                                                                          |7    |\n",
      "|French, Restaurants, Cafes                                                                                                                                                                    |4    |\n",
      "|Fast Food, Ice Cream & Frozen Yogurt, Restaurants, Food                                                                                                                                       |8    |\n",
      "|Bikes, Auto Repair, Sporting Goods, Auto Parts & Supplies, Local Services, Oil Change Stations, Bike Repair/Maintenance, Automotive, Shopping                                                 |6    |\n",
      "|Self Storage, Local Services, Home & Garden, Home Decor, Shopping                                                                                                                             |5    |\n",
      "|Trophy Shops, Signmaking, Gift Shops, Engraving, Flowers & Gifts, Shopping, Professional Services, Screen Printing, Local Services                                                            |6    |\n",
      "|Newspapers & Magazines, Books, Mags, Music & Video, Shopping                                                                                                                                  |4    |\n",
      "|Fast Food, Burgers, Restaurants                                                                                                                                                               |9    |\n",
      "|Restaurants, Coffee & Tea, Food, Internet Cafes, Cafes                                                                                                                                        |3    |\n",
      "|Coffee & Tea, Food, Internet Cafes                                                                                                                                                            |7    |\n",
      "|Bars, Cocktail Bars, Nightlife                                                                                                                                                                |4    |\n",
      "|Dance Clubs, Nightlife, Event Planning & Services, Venues & Event Spaces                                                                                                                      |3    |\n",
      "|Fast Food, Burgers, Restaurants, Food, Coffee & Tea                                                                                                                                           |5    |\n",
      "|Shopping, Self Storage, Home & Garden, Home Decor, Local Services                                                                                                                             |17   |\n",
      "|Performing Arts, Arts & Entertainment, Music Venues, Nightlife, Cinema                                                                                                                        |12   |\n",
      "|Sandwiches, Restaurants, Fast Food                                                                                                                                                            |4    |\n",
      "|Pizza, Food Delivery Services, Restaurants, Food, Italian, Chicken Wings                                                                                                                      |6    |\n",
      "|Dry Cleaning & Laundry, Local Services, Laundry Services                                                                                                                                      |7    |\n",
      "|Restaurants, Active Life, Golf                                                                                                                                                                |19   |\n",
      "|Specialty Food, Cheese Shops, Food                                                                                                                                                            |7    |\n",
      "|Shoe Repair, Arts & Crafts, Embroidery & Crochet, Shopping, Dry Cleaning, Home Cleaning, Bridal, Local Services, Sewing & Alterations, Dry Cleaning & Laundry, Home Services, Laundry Services|5    |\n",
      "|Restaurants, Fast Food, Food, Burgers, Coffee & Tea                                                                                                                                           |8    |\n",
      "|Pizza, Restaurants                                                                                                                                                                            |19   |\n",
      "|Cosmetics & Beauty Supply, Shopping, Barbers, Beauty & Spas                                                                                                                                   |4    |\n",
      "|Restaurants, Food, Caribbean, Specialty Food                                                                                                                                                  |9    |\n",
      "|Bakeries, Food                                                                                                                                                                                |4    |\n",
      "|Italian, Bakeries, Bagels, Restaurants, Delis, Food                                                                                                                                           |38   |\n",
      "|Food, Bakeries                                                                                                                                                                                |6    |\n",
      "|Restaurants, Asian Fusion, Chinese                                                                                                                                                            |7    |\n",
      "+----------------------------------------------------------------------------------------------------------------------------------------------------------------------------------------------+-----+\n",
      "\n"
     ]
    }
   ],
   "source": [
    "df_business.filter(\"attributes.RestaurantsPriceRange2 == 'None'\").select(\"attributes.RestaurantsPriceRange2\",\"categories\").groupBy(\"categories\").count().show(100, False)\n",
    "\n"
   ]
  },
  {
   "cell_type": "code",
   "execution_count": null,
   "metadata": {},
   "outputs": [],
   "source": []
  }
 ],
 "metadata": {
  "kernelspec": {
   "display_name": "Python 3",
   "language": "python",
   "name": "python3"
  },
  "language_info": {
   "codemirror_mode": {
    "name": "ipython",
    "version": 3
   },
   "file_extension": ".py",
   "mimetype": "text/x-python",
   "name": "python",
   "nbconvert_exporter": "python",
   "pygments_lexer": "ipython3",
   "version": "3.7.1"
  }
 },
 "nbformat": 4,
 "nbformat_minor": 2
}
