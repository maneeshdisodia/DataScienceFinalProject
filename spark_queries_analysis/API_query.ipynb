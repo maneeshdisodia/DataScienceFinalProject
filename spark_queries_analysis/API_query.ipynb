{
 "cells": [
  {
   "cell_type": "code",
   "execution_count": 1,
   "metadata": {},
   "outputs": [],
   "source": [
    " # Import our SparkSession so we can use it\n",
    "from pyspark.sql import SparkSession, SQLContext, functions as F\n",
    "# Create our SparkSession, this can take a couple minutes locally\n",
    "spark = SparkSession.builder.appName(\"UserJSON\").config('spark.sql.broadcastTimeout',-1).getOrCreate()\n",
    "\n",
    "from pyspark.sql.functions import col\n",
    "\n"
   ]
  },
  {
   "cell_type": "code",
   "execution_count": 2,
   "metadata": {},
   "outputs": [],
   "source": [
    "df_business = spark.read.json(\"../data_source/business.json\")\n",
    "\n"
   ]
  },
  {
   "cell_type": "code",
   "execution_count": 3,
   "metadata": {},
   "outputs": [
    {
     "name": "stdout",
     "output_type": "stream",
     "text": [
      "root\n",
      " |-- address: string (nullable = true)\n",
      " |-- attributes: struct (nullable = true)\n",
      " |    |-- AcceptsInsurance: string (nullable = true)\n",
      " |    |-- AgesAllowed: string (nullable = true)\n",
      " |    |-- Alcohol: string (nullable = true)\n",
      " |    |-- Ambience: string (nullable = true)\n",
      " |    |-- BYOB: string (nullable = true)\n",
      " |    |-- BYOBCorkage: string (nullable = true)\n",
      " |    |-- BestNights: string (nullable = true)\n",
      " |    |-- BikeParking: string (nullable = true)\n",
      " |    |-- BusinessAcceptsBitcoin: string (nullable = true)\n",
      " |    |-- BusinessAcceptsCreditCards: string (nullable = true)\n",
      " |    |-- BusinessParking: string (nullable = true)\n",
      " |    |-- ByAppointmentOnly: string (nullable = true)\n",
      " |    |-- Caters: string (nullable = true)\n",
      " |    |-- CoatCheck: string (nullable = true)\n",
      " |    |-- Corkage: string (nullable = true)\n",
      " |    |-- DietaryRestrictions: string (nullable = true)\n",
      " |    |-- DogsAllowed: string (nullable = true)\n",
      " |    |-- DriveThru: string (nullable = true)\n",
      " |    |-- GoodForDancing: string (nullable = true)\n",
      " |    |-- GoodForKids: string (nullable = true)\n",
      " |    |-- GoodForMeal: string (nullable = true)\n",
      " |    |-- HairSpecializesIn: string (nullable = true)\n",
      " |    |-- HappyHour: string (nullable = true)\n",
      " |    |-- HasTV: string (nullable = true)\n",
      " |    |-- Music: string (nullable = true)\n",
      " |    |-- NoiseLevel: string (nullable = true)\n",
      " |    |-- Open24Hours: string (nullable = true)\n",
      " |    |-- OutdoorSeating: string (nullable = true)\n",
      " |    |-- RestaurantsAttire: string (nullable = true)\n",
      " |    |-- RestaurantsCounterService: string (nullable = true)\n",
      " |    |-- RestaurantsDelivery: string (nullable = true)\n",
      " |    |-- RestaurantsGoodForGroups: string (nullable = true)\n",
      " |    |-- RestaurantsPriceRange2: string (nullable = true)\n",
      " |    |-- RestaurantsReservations: string (nullable = true)\n",
      " |    |-- RestaurantsTableService: string (nullable = true)\n",
      " |    |-- RestaurantsTakeOut: string (nullable = true)\n",
      " |    |-- Smoking: string (nullable = true)\n",
      " |    |-- WheelchairAccessible: string (nullable = true)\n",
      " |    |-- WiFi: string (nullable = true)\n",
      " |-- business_id: string (nullable = true)\n",
      " |-- categories: string (nullable = true)\n",
      " |-- city: string (nullable = true)\n",
      " |-- hours: struct (nullable = true)\n",
      " |    |-- Friday: string (nullable = true)\n",
      " |    |-- Monday: string (nullable = true)\n",
      " |    |-- Saturday: string (nullable = true)\n",
      " |    |-- Sunday: string (nullable = true)\n",
      " |    |-- Thursday: string (nullable = true)\n",
      " |    |-- Tuesday: string (nullable = true)\n",
      " |    |-- Wednesday: string (nullable = true)\n",
      " |-- is_open: long (nullable = true)\n",
      " |-- latitude: double (nullable = true)\n",
      " |-- longitude: double (nullable = true)\n",
      " |-- name: string (nullable = true)\n",
      " |-- postal_code: string (nullable = true)\n",
      " |-- review_count: long (nullable = true)\n",
      " |-- stars: double (nullable = true)\n",
      " |-- state: string (nullable = true)\n",
      "\n"
     ]
    }
   ],
   "source": [
    "df_business.printSchema()\n",
    "\n"
   ]
  },
  {
   "cell_type": "code",
   "execution_count": 4,
   "metadata": {},
   "outputs": [
    {
     "name": "stdout",
     "output_type": "stream",
     "text": [
      "+-----+-----+\n",
      "|state|count|\n",
      "+-----+-----+\n",
      "|  BAS|    1|\n",
      "|   TN|    1|\n",
      "|   NM|    1|\n",
      "|  DUR|    1|\n",
      "|  DOW|    1|\n",
      "|   BC|    1|\n",
      "|  CON|    1|\n",
      "|  XGL|    1|\n",
      "|   NJ|    1|\n",
      "|   AR|    1|\n",
      "|   UT|    1|\n",
      "|   AK|    2|\n",
      "|   VA|    2|\n",
      "|   NE|    2|\n",
      "|   VT|    2|\n",
      "|   GA|    2|\n",
      "|  XWY|    2|\n",
      "|   CT|    3|\n",
      "|   WA|    3|\n",
      "|   AL|    3|\n",
      "|   FL|    4|\n",
      "|  XGM|    4|\n",
      "|   TX|    6|\n",
      "|   CA|   19|\n",
      "|   NY|   22|\n",
      "|   SC| 1162|\n",
      "|   IL| 1932|\n",
      "|   WI| 5154|\n",
      "|   AB| 8012|\n",
      "|   QC| 9219|\n",
      "|   PA|11216|\n",
      "|   OH|14697|\n",
      "|   NC|14720|\n",
      "|   ON|33412|\n",
      "|   NV|36312|\n",
      "|   AZ|56686|\n",
      "+-----+-----+\n",
      "\n"
     ]
    }
   ],
   "source": [
    "States_Counting = df_business.groupBy(\"state\").count()\n",
    "\n",
    "States_Counting.orderBy(\"count\").show(100)"
   ]
  },
  {
   "cell_type": "code",
   "execution_count": 5,
   "metadata": {},
   "outputs": [
    {
     "name": "stdout",
     "output_type": "stream",
     "text": [
      "+---------+-----+\n",
      "|     city|count|\n",
      "+---------+-----+\n",
      "| Avondale|    1|\n",
      "|Las Vegas|    1|\n",
      "+---------+-----+\n",
      "\n"
     ]
    }
   ],
   "source": [
    "df_business.filter(df_business.state == \"GA\").groupBy(\"city\").count().show(200)\n",
    "\n"
   ]
  },
  {
   "cell_type": "code",
   "execution_count": 4,
   "metadata": {},
   "outputs": [
    {
     "ename": "AttributeError",
     "evalue": "'DataFrame' object has no attribute 'map'",
     "output_type": "error",
     "traceback": [
      "\u001b[0;31m---------------------------------------------------------------------------\u001b[0m",
      "\u001b[0;31mAttributeError\u001b[0m                            Traceback (most recent call last)",
      "\u001b[0;32m<ipython-input-4-fd1094cc27e9>\u001b[0m in \u001b[0;36m<module>\u001b[0;34m\u001b[0m\n\u001b[0;32m----> 1\u001b[0;31m \u001b[0mdf_business\u001b[0m\u001b[0;34m.\u001b[0m\u001b[0mfilter\u001b[0m\u001b[0;34m(\u001b[0m\u001b[0;34m(\u001b[0m\u001b[0mcol\u001b[0m\u001b[0;34m(\u001b[0m\u001b[0;34m\"stars\"\u001b[0m\u001b[0;34m)\u001b[0m \u001b[0;34m>=\u001b[0m \u001b[0;36m4\u001b[0m\u001b[0;34m)\u001b[0m \u001b[0;34m&\u001b[0m \u001b[0;34m(\u001b[0m\u001b[0mcol\u001b[0m\u001b[0;34m(\u001b[0m\u001b[0;34m\"categories\"\u001b[0m\u001b[0;34m)\u001b[0m\u001b[0;34m.\u001b[0m\u001b[0mlike\u001b[0m\u001b[0;34m(\u001b[0m\u001b[0;34m\"%Japanese%\"\u001b[0m\u001b[0;34m)\u001b[0m\u001b[0;34m)\u001b[0m \u001b[0;34m&\u001b[0m\u001b[0;34m(\u001b[0m\u001b[0mcol\u001b[0m\u001b[0;34m(\u001b[0m\u001b[0;34m\"state\"\u001b[0m\u001b[0;34m)\u001b[0m \u001b[0;34m==\u001b[0m \u001b[0;34m'NV'\u001b[0m\u001b[0;34m)\u001b[0m \u001b[0;34m&\u001b[0m \u001b[0;34m(\u001b[0m\u001b[0mcol\u001b[0m\u001b[0;34m(\u001b[0m\u001b[0;34m\"city\"\u001b[0m\u001b[0;34m)\u001b[0m \u001b[0;34m==\u001b[0m \u001b[0;34m'North Las Vegas'\u001b[0m\u001b[0;34m)\u001b[0m\u001b[0;34m)\u001b[0m\u001b[0;34m.\u001b[0m\u001b[0mgroupBy\u001b[0m\u001b[0;34m(\u001b[0m\u001b[0;34m\"categories\"\u001b[0m\u001b[0;34m,\u001b[0m \u001b[0;34m\"name\"\u001b[0m\u001b[0;34m,\u001b[0m \u001b[0;34m\"stars\"\u001b[0m\u001b[0;34m,\u001b[0m \u001b[0;34m\"hours\"\u001b[0m\u001b[0;34m,\u001b[0m\u001b[0;34m)\u001b[0m\u001b[0;34m.\u001b[0m\u001b[0mcount\u001b[0m\u001b[0;34m(\u001b[0m\u001b[0;34m)\u001b[0m\u001b[0;34m.\u001b[0m\u001b[0mmap\u001b[0m\u001b[0;34m(\u001b[0m\u001b[0;34m)\u001b[0m\u001b[0;34m\u001b[0m\u001b[0;34m\u001b[0m\u001b[0m\n\u001b[0m",
      "\u001b[0;32m~/Applications/spark-2.4.0-bin-hadoop2.6/python/pyspark/sql/dataframe.py\u001b[0m in \u001b[0;36m__getattr__\u001b[0;34m(self, name)\u001b[0m\n\u001b[1;32m   1298\u001b[0m         \u001b[0;32mif\u001b[0m \u001b[0mname\u001b[0m \u001b[0;32mnot\u001b[0m \u001b[0;32min\u001b[0m \u001b[0mself\u001b[0m\u001b[0;34m.\u001b[0m\u001b[0mcolumns\u001b[0m\u001b[0;34m:\u001b[0m\u001b[0;34m\u001b[0m\u001b[0;34m\u001b[0m\u001b[0m\n\u001b[1;32m   1299\u001b[0m             raise AttributeError(\n\u001b[0;32m-> 1300\u001b[0;31m                 \"'%s' object has no attribute '%s'\" % (self.__class__.__name__, name))\n\u001b[0m\u001b[1;32m   1301\u001b[0m         \u001b[0mjc\u001b[0m \u001b[0;34m=\u001b[0m \u001b[0mself\u001b[0m\u001b[0;34m.\u001b[0m\u001b[0m_jdf\u001b[0m\u001b[0;34m.\u001b[0m\u001b[0mapply\u001b[0m\u001b[0;34m(\u001b[0m\u001b[0mname\u001b[0m\u001b[0;34m)\u001b[0m\u001b[0;34m\u001b[0m\u001b[0;34m\u001b[0m\u001b[0m\n\u001b[1;32m   1302\u001b[0m         \u001b[0;32mreturn\u001b[0m \u001b[0mColumn\u001b[0m\u001b[0;34m(\u001b[0m\u001b[0mjc\u001b[0m\u001b[0;34m)\u001b[0m\u001b[0;34m\u001b[0m\u001b[0;34m\u001b[0m\u001b[0m\n",
      "\u001b[0;31mAttributeError\u001b[0m: 'DataFrame' object has no attribute 'map'"
     ]
    }
   ],
   "source": [
    "df_business.filter((col(\"stars\") >= 4) & (col(\"categories\").like(\"%Japanese%\")) &(col(\"state\") == 'NV') & (col(\"city\") == 'North Las Vegas')).groupBy(\"categories\", \"name\", \"stars\", \"hours\",).count()\n"
   ]
  },
  {
   "cell_type": "code",
   "execution_count": 10,
   "metadata": {},
   "outputs": [
    {
     "data": {
      "text/plain": [
       "['In-N-Out Burger', 'Sunshine & Tailwinds Cafe', \"Victory's Cafe\"]"
      ]
     },
     "execution_count": 10,
     "metadata": {},
     "output_type": "execute_result"
    }
   ],
   "source": [
    "restaurants = df_business.filter((col(\"stars\") >= 4) & (col(\"categories\").like(\"%American%\")) &(col(\"state\") == 'NV') & (col(\"city\") == 'North Las Vegas')).groupBy(\"categories\", \"name\", \"stars\", \"hours\",).count().take(3)\n",
    "\n",
    "[restaurant.name for restaurant in restaurants]\n",
    "\n"
   ]
  },
  {
   "cell_type": "code",
   "execution_count": 10,
   "metadata": {},
   "outputs": [
    {
     "name": "stdout",
     "output_type": "stream",
     "text": [
      "+--------------------+--------------------+-----+--------------------+-----+\n",
      "|          categories|                name|stars|               hours|count|\n",
      "+--------------------+--------------------+-----+--------------------+-----+\n",
      "|Restaurants, Mexican|    Tacos El Tapatio|  4.0|[9:0-22:0, 9:0-22...|    1|\n",
      "|Mexican, Restaura...|Mariscos Aguachil...|  4.0|[9:0-22:0, 9:0-22...|    1|\n",
      "|Mexican, Restaura...|Viva Zapatas Mexi...|  4.0|[10:0-22:0, 10:0-...|    1|\n",
      "|Tacos, Salad, Bre...|Chicago Style Tac...|  4.5|[10:0-22:0, 10:0-...|    1|\n",
      "|Ice Cream & Froze...|Paletas Y Helados...|  5.0|                null|    1|\n",
      "|Mexican, Restaura...|      Tacos El Gordo|  4.0|[10:0-4:0, 10:0-2...|    1|\n",
      "|Mexican, Restaura...|     La Mojarra Loca|  4.0|[9:0-21:0, 9:0-21...|    1|\n",
      "|Restaurants, Spec...|La Familia Authen...|  4.0|[10:0-21:0,, 9:0-...|    1|\n",
      "|Event Planning & ...| Antojitos D F Y Mas|  4.5|[9:0-21:0, 9:0-21...|    1|\n",
      "|Mexican, Restaurants|               ASADA|  4.0|[10:0-21:0, 10:0-...|    1|\n",
      "|Mexican, Restaurants|Tony's Mexican Fo...|  4.0|[8:0-21:0, 8:0-21...|    1|\n",
      "|Food, Restaurants...| Los Portales Bakery|  4.0|[6:0-20:0, 6:0-20...|    1|\n",
      "|Mexican, Restaurants|         El Menudazo|  4.0|[7:0-20:0, 7:0-16...|    1|\n",
      "|Food Stands, Even...|              LVTACO|  5.0|[9:0-17:0, 9:0-17...|    1|\n",
      "|Mexican, Restaurants|      El Jalisquillo|  4.5|                null|    1|\n",
      "|Mexican, Restaurants|          El Cazador|  4.0|                null|    1|\n",
      "|Restaurants, Chin...|Machetes Mexican ...|  4.0|[9:0-23:0, 9:0-22...|    1|\n",
      "|Tacos, Mexican, F...|     Pollos Culiacan|  5.0|[10:0-20:30, 10:0...|    1|\n",
      "|Food Trucks, Farm...|    La Cocina Torres|  5.0|    [, 0:0-0:0,,,,,]|    1|\n",
      "|Fast Food, Restau...| Roberto's Taco Shop|  4.0|                null|    1|\n",
      "+--------------------+--------------------+-----+--------------------+-----+\n",
      "only showing top 20 rows\n",
      "\n"
     ]
    }
   ],
   "source": [
    "df_business.filter((col(\"stars\") >= 4) & (col(\"categories\").like(\"%Mexican%\")) &(col(\"state\") == 'NV') & (col(\"city\") == 'North Las Vegas')).groupBy(\"categories\", \"name\", \"stars\", \"hours\",).count().show()\n",
    "\n"
   ]
  },
  {
   "cell_type": "code",
   "execution_count": null,
   "metadata": {},
   "outputs": [],
   "source": []
  }
 ],
 "metadata": {
  "kernelspec": {
   "display_name": "Python 3",
   "language": "python",
   "name": "python3"
  },
  "language_info": {
   "codemirror_mode": {
    "name": "ipython",
    "version": 3
   },
   "file_extension": ".py",
   "mimetype": "text/x-python",
   "name": "python",
   "nbconvert_exporter": "python",
   "pygments_lexer": "ipython3",
   "version": "3.7.1"
  }
 },
 "nbformat": 4,
 "nbformat_minor": 2
}
