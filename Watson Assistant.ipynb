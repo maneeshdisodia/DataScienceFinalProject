{
 "cells": [
  {
   "cell_type": "code",
   "execution_count": 1,
   "metadata": {},
   "outputs": [],
   "source": [
    "from __future__ import print_function\n",
    "import json\n",
    "from watson_developer_cloud import AssistantV2\n",
    "from secret.keys import *\n"
   ]
  },
  {
   "cell_type": "code",
   "execution_count": 2,
   "metadata": {},
   "outputs": [
    {
     "name": "stdout",
     "output_type": "stream",
     "text": [
      "Requirement already satisfied: twilio in /Users/jleongonzalez/anaconda3/envs/PythonData/lib/python3.6/site-packages (6.23.1)\n",
      "Requirement already satisfied: PyJWT>=1.4.2 in /Users/jleongonzalez/anaconda3/envs/PythonData/lib/python3.6/site-packages (from twilio) (1.7.1)\n",
      "Requirement already satisfied: pysocks; python_version >= \"3.0\" in /Users/jleongonzalez/anaconda3/envs/PythonData/lib/python3.6/site-packages (from twilio) (1.6.8)\n",
      "Requirement already satisfied: pytz in /Users/jleongonzalez/anaconda3/envs/PythonData/lib/python3.6/site-packages (from twilio) (2018.4)\n",
      "Requirement already satisfied: six in /Users/jleongonzalez/anaconda3/envs/PythonData/lib/python3.6/site-packages (from twilio) (1.11.0)\n",
      "Requirement already satisfied: requests>=2.0.0; python_version >= \"3.0\" in /Users/jleongonzalez/anaconda3/envs/PythonData/lib/python3.6/site-packages (from twilio) (2.18.4)\n",
      "Requirement already satisfied: chardet<3.1.0,>=3.0.2 in /Users/jleongonzalez/anaconda3/envs/PythonData/lib/python3.6/site-packages (from requests>=2.0.0; python_version >= \"3.0\"->twilio) (3.0.4)\n",
      "Requirement already satisfied: idna<2.7,>=2.5 in /Users/jleongonzalez/anaconda3/envs/PythonData/lib/python3.6/site-packages (from requests>=2.0.0; python_version >= \"3.0\"->twilio) (2.6)\n",
      "Requirement already satisfied: urllib3<1.23,>=1.21.1 in /Users/jleongonzalez/anaconda3/envs/PythonData/lib/python3.6/site-packages (from requests>=2.0.0; python_version >= \"3.0\"->twilio) (1.22)\n",
      "Requirement already satisfied: certifi>=2017.4.17 in /Users/jleongonzalez/anaconda3/envs/PythonData/lib/python3.6/site-packages (from requests>=2.0.0; python_version >= \"3.0\"->twilio) (2018.8.24)\n"
     ]
    }
   ],
   "source": [
    "!pip install twilio\n"
   ]
  },
  {
   "cell_type": "code",
   "execution_count": 3,
   "metadata": {},
   "outputs": [
    {
     "ename": "ModuleNotFoundError",
     "evalue": "No module named 'twilio.rest'; 'twilio' is not a package",
     "output_type": "error",
     "traceback": [
      "\u001b[0;31m---------------------------------------------------------------------------\u001b[0m",
      "\u001b[0;31mModuleNotFoundError\u001b[0m                       Traceback (most recent call last)",
      "\u001b[0;32m<ipython-input-3-84f748b08924>\u001b[0m in \u001b[0;36m<module>\u001b[0;34m()\u001b[0m\n\u001b[0;32m----> 1\u001b[0;31m \u001b[0;32mfrom\u001b[0m \u001b[0mtwilio\u001b[0m\u001b[0;34m.\u001b[0m\u001b[0mrest\u001b[0m \u001b[0;32mimport\u001b[0m \u001b[0mClient\u001b[0m\u001b[0;34m\u001b[0m\u001b[0m\n\u001b[0m",
      "\u001b[0;32m~/Desktop/Final Project/twilio.py\u001b[0m in \u001b[0;36m<module>\u001b[0;34m()\u001b[0m\n\u001b[1;32m      1\u001b[0m \u001b[0;32mfrom\u001b[0m \u001b[0mflask\u001b[0m \u001b[0;32mimport\u001b[0m \u001b[0mFlask\u001b[0m\u001b[0;34m,\u001b[0m \u001b[0mjsonify\u001b[0m\u001b[0;34m,\u001b[0m \u001b[0mrender_template\u001b[0m\u001b[0;34m\u001b[0m\u001b[0m\n\u001b[1;32m      2\u001b[0m \u001b[0;31m# from twilio.twiml.voice_response import Gather\u001b[0m\u001b[0;34m\u001b[0m\u001b[0;34m\u001b[0m\u001b[0m\n\u001b[0;32m----> 3\u001b[0;31m \u001b[0;32mfrom\u001b[0m \u001b[0mtwilio\u001b[0m\u001b[0;34m.\u001b[0m\u001b[0mrest\u001b[0m \u001b[0;32mimport\u001b[0m \u001b[0mClient\u001b[0m\u001b[0;34m\u001b[0m\u001b[0m\n\u001b[0m\u001b[1;32m      4\u001b[0m \u001b[0;34m\u001b[0m\u001b[0m\n\u001b[1;32m      5\u001b[0m \u001b[0;31m#################################################\u001b[0m\u001b[0;34m\u001b[0m\u001b[0;34m\u001b[0m\u001b[0m\n",
      "\u001b[0;31mModuleNotFoundError\u001b[0m: No module named 'twilio.rest'; 'twilio' is not a package"
     ]
    }
   ],
   "source": [
    "from twilio.rest import Client"
   ]
  },
  {
   "cell_type": "code",
   "execution_count": 2,
   "metadata": {},
   "outputs": [],
   "source": [
    "assistant = AssistantV2(\n",
    "    username=username, \n",
    "    password=password,\n",
    "    url=url,\n",
    "    version=version)\n"
   ]
  },
  {
   "cell_type": "code",
   "execution_count": 3,
   "metadata": {},
   "outputs": [],
   "source": [
    "session = assistant.create_session(assistanceID).get_result()\n",
    "sessionID = session['session_id']\n"
   ]
  },
  {
   "cell_type": "code",
   "execution_count": 4,
   "metadata": {},
   "outputs": [
    {
     "name": "stdout",
     "output_type": "stream",
     "text": [
      "{\n",
      "  \"output\": {\n",
      "    \"generic\": [\n",
      "      {\n",
      "        \"response_type\": \"text\",\n",
      "        \"text\": \"It is sunny\"\n",
      "      },\n",
      "      {\n",
      "        \"time\": 2,\n",
      "        \"typing\": true,\n",
      "        \"response_type\": \"pause\"\n",
      "      },\n",
      "      {\n",
      "        \"response_type\": \"text\",\n",
      "        \"text\": \"Go outside\"\n",
      "      }\n",
      "    ],\n",
      "    \"intents\": [\n",
      "      {\n",
      "        \"intent\": \"weather\",\n",
      "        \"confidence\": 0.9372719287872315\n",
      "      }\n",
      "    ],\n",
      "    \"entities\": []\n",
      "  }\n",
      "}\n"
     ]
    }
   ],
   "source": [
    "message = assistant.message(\n",
    "    assistanceID,\n",
    "    sessionID,\n",
    "    input={'text': 'What\\'s the weather like?'}).get_result()\n",
    "print(json.dumps(message, indent=2))\n",
    "\n"
   ]
  },
  {
   "cell_type": "code",
   "execution_count": null,
   "metadata": {},
   "outputs": [],
   "source": []
  }
 ],
 "metadata": {
  "kernelspec": {
   "display_name": "Python 3",
   "language": "python",
   "name": "python3"
  },
  "language_info": {
   "codemirror_mode": {
    "name": "ipython",
    "version": 3
   },
   "file_extension": ".py",
   "mimetype": "text/x-python",
   "name": "python",
   "nbconvert_exporter": "python",
   "pygments_lexer": "ipython3",
   "version": "3.6.5"
  }
 },
 "nbformat": 4,
 "nbformat_minor": 2
}
