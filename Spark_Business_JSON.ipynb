{
 "cells": [
  {
   "cell_type": "code",
   "execution_count": 48,
   "metadata": {},
   "outputs": [],
   "source": [
    " # Import our SparkSession so we can use it\n",
    "from pyspark.sql import SparkSession, SQLContext, functions as F\n",
    "# Create our SparkSession, this can take a couple minutes locally\n",
    "spark = SparkSession.builder.appName(\"UserJSON\").config('spark.sql.broadcastTimeout',-1).getOrCreate()\n",
    "\n",
    "from pyspark.sql.functions import col\n"
   ]
  },
  {
   "cell_type": "code",
   "execution_count": 38,
   "metadata": {},
   "outputs": [],
   "source": [
    "df_business = spark.read.json(\"raw_data/business_review/part-00000-a6c5280a-4adf-4f1d-b37f-cbfd7dc9a6c6-c000.json\")\n"
   ]
  },
  {
   "cell_type": "code",
   "execution_count": 39,
   "metadata": {},
   "outputs": [
    {
     "name": "stdout",
     "output_type": "stream",
     "text": [
      "root\n",
      " |-- address: string (nullable = true)\n",
      " |-- attributes: struct (nullable = true)\n",
      " |    |-- AcceptsInsurance: string (nullable = true)\n",
      " |    |-- AgesAllowed: string (nullable = true)\n",
      " |    |-- Alcohol: string (nullable = true)\n",
      " |    |-- Ambience: string (nullable = true)\n",
      " |    |-- BYOB: string (nullable = true)\n",
      " |    |-- BYOBCorkage: string (nullable = true)\n",
      " |    |-- BestNights: string (nullable = true)\n",
      " |    |-- BikeParking: string (nullable = true)\n",
      " |    |-- BusinessAcceptsBitcoin: string (nullable = true)\n",
      " |    |-- BusinessAcceptsCreditCards: string (nullable = true)\n",
      " |    |-- BusinessParking: string (nullable = true)\n",
      " |    |-- ByAppointmentOnly: string (nullable = true)\n",
      " |    |-- Caters: string (nullable = true)\n",
      " |    |-- CoatCheck: string (nullable = true)\n",
      " |    |-- Corkage: string (nullable = true)\n",
      " |    |-- DietaryRestrictions: string (nullable = true)\n",
      " |    |-- DogsAllowed: string (nullable = true)\n",
      " |    |-- DriveThru: string (nullable = true)\n",
      " |    |-- GoodForDancing: string (nullable = true)\n",
      " |    |-- GoodForKids: string (nullable = true)\n",
      " |    |-- GoodForMeal: string (nullable = true)\n",
      " |    |-- HairSpecializesIn: string (nullable = true)\n",
      " |    |-- HappyHour: string (nullable = true)\n",
      " |    |-- HasTV: string (nullable = true)\n",
      " |    |-- Music: string (nullable = true)\n",
      " |    |-- NoiseLevel: string (nullable = true)\n",
      " |    |-- Open24Hours: string (nullable = true)\n",
      " |    |-- OutdoorSeating: string (nullable = true)\n",
      " |    |-- RestaurantsAttire: string (nullable = true)\n",
      " |    |-- RestaurantsCounterService: string (nullable = true)\n",
      " |    |-- RestaurantsDelivery: string (nullable = true)\n",
      " |    |-- RestaurantsGoodForGroups: string (nullable = true)\n",
      " |    |-- RestaurantsPriceRange2: string (nullable = true)\n",
      " |    |-- RestaurantsReservations: string (nullable = true)\n",
      " |    |-- RestaurantsTableService: string (nullable = true)\n",
      " |    |-- RestaurantsTakeOut: string (nullable = true)\n",
      " |    |-- Smoking: string (nullable = true)\n",
      " |    |-- WheelchairAccessible: string (nullable = true)\n",
      " |    |-- WiFi: string (nullable = true)\n",
      " |-- business_id: string (nullable = true)\n",
      " |-- categories: string (nullable = true)\n",
      " |-- city: string (nullable = true)\n",
      " |-- hours: struct (nullable = true)\n",
      " |    |-- Friday: string (nullable = true)\n",
      " |    |-- Monday: string (nullable = true)\n",
      " |    |-- Saturday: string (nullable = true)\n",
      " |    |-- Sunday: string (nullable = true)\n",
      " |    |-- Thursday: string (nullable = true)\n",
      " |    |-- Tuesday: string (nullable = true)\n",
      " |    |-- Wednesday: string (nullable = true)\n",
      " |-- is_open: long (nullable = true)\n",
      " |-- latitude: double (nullable = true)\n",
      " |-- longitude: double (nullable = true)\n",
      " |-- name: string (nullable = true)\n",
      " |-- postal_code: string (nullable = true)\n",
      " |-- rev_stars: double (nullable = true)\n",
      " |-- review_count: long (nullable = true)\n",
      " |-- review_id: string (nullable = true)\n",
      " |-- stars: double (nullable = true)\n",
      " |-- state: string (nullable = true)\n",
      " |-- text: string (nullable = true)\n",
      " |-- user_id: string (nullable = true)\n",
      "\n"
     ]
    }
   ],
   "source": [
    "df_business.printSchema()\n"
   ]
  },
  {
   "cell_type": "code",
   "execution_count": 20,
   "metadata": {},
   "outputs": [
    {
     "name": "stdout",
     "output_type": "stream",
     "text": [
      "+--------------------+-----+-----+\n",
      "|         business_id|stars|count|\n",
      "+--------------------+-----+-----+\n",
      "|-I06hkMFrX0KBqu61...|  5.0|    3|\n",
      "|74LU6K2ro5AQXKT0J...|  4.0|   16|\n",
      "|7EnzO970Zdrd_gjIJ...|  4.5|   19|\n",
      "|93yfzr8B1s-mhan2W...|  3.0|    6|\n",
      "|l3DOX58AX5mcHqnbJ...|  3.5|    6|\n",
      "|xdBeEql6sCe7zBHZx...|  5.0|    7|\n",
      "|FYR3nVpNvY2X6dBu1...|  5.0|    3|\n",
      "|IVRpIYUnWpvSneeGH...|  5.0|   10|\n",
      "|L7onn3bgx-8HgKERS...|  5.0|   12|\n",
      "|dtp3UPOH3Fig5zW2t...|  3.5|    3|\n",
      "|lcqzUoxA6E2aVIF7_...|  1.0|    3|\n",
      "|UBOUVw45T86I6FgXA...|  5.0|    4|\n",
      "|UcCJfq0PElINpflaT...|  2.5|   14|\n",
      "|XetqQFNRm_lqfNZ6Y...|  2.5|    7|\n",
      "|ZdF_p8ff2pNuZcX_A...|  3.5|    3|\n",
      "|lgdde-A-rnzOw9ybm...|  3.5|   59|\n",
      "|qzPW50oW2TN1yG8XK...|  3.5|    3|\n",
      "|rDpX16jDGa4YGiycp...|  4.0|    3|\n",
      "|z5QStGLj6ua31xXnN...|  5.0|    6|\n",
      "|412zay6TFdL20X764...|  2.5|    6|\n",
      "+--------------------+-----+-----+\n",
      "only showing top 20 rows\n",
      "\n"
     ]
    }
   ],
   "source": [
    "df_business.groupBy(\"business_id\", \"stars\").count().show()\n"
   ]
  },
  {
   "cell_type": "code",
   "execution_count": 36,
   "metadata": {
    "scrolled": false
   },
   "outputs": [
    {
     "name": "stdout",
     "output_type": "stream",
     "text": [
      "+--------------------+--------------------+--------------------+--------------------+----------+--------------------+-------+----------+-----------+--------------------+-----------+---------+------------+--------------------+-----+-----+--------------------+--------------------+\n",
      "|             address|          attributes|         business_id|          categories|      city|               hours|is_open|  latitude|  longitude|                name|postal_code|rev_stars|review_count|           review_id|stars|state|                text|             user_id|\n",
      "+--------------------+--------------------+--------------------+--------------------+----------+--------------------+-------+----------+-----------+--------------------+-----------+---------+------------+--------------------+-----+-----+--------------------+--------------------+\n",
      "|     61 Queen Street|[,, 'none', {'rom...|FByZsT1Sob5Vf1AYJ...|Indian, Pakistani...|     Leeds|                null|      1|43.6528212|-79.3763454|         Desi Masala|   LS27 8EB|      5.0|           5|-DeNn1xqFaF2Zw0vM...|  4.5|  XWY|Arrived a tad lat...|Zbp8PfJVqNzkrKT4t...|\n",
      "| 37 Monk Bridge Road|[,, u'none',,,,,,...|44xjnQMwAQjgZ80MW...|Bakeries, Food, D...|     Leeds|[7:0-15:0, 7:0-15...|      1| 45.456999|  -73.59525| No. 37 Sandwich Bar|    LS6 4EP|      5.0|           3|NCocgnvbJpn-voBYT...|  4.5|  XWY|This little cake ...|GWezFtwZTpt9DoDaq...|\n",
      "|     61 Queen Street|[,, 'none', {'rom...|FByZsT1Sob5Vf1AYJ...|Indian, Pakistani...|     Leeds|                null|      1|43.6528212|-79.3763454|         Desi Masala|   LS27 8EB|      5.0|           5|ItpFSuP1sRbwbtgOZ...|  4.5|  XWY|This is by far th...|VbsMgQ3uWlbX2OU0a...|\n",
      "| 37 Monk Bridge Road|[,, u'none',,,,,,...|44xjnQMwAQjgZ80MW...|Bakeries, Food, D...|     Leeds|[7:0-15:0, 7:0-15...|      1| 45.456999|  -73.59525| No. 37 Sandwich Bar|    LS6 4EP|      5.0|           3|82igcStJdfoJMMlGX...|  4.5|  XWY|What incited me t...|zAvtU9NmKCDnd086V...|\n",
      "| 37 Monk Bridge Road|[,, u'none',,,,,,...|44xjnQMwAQjgZ80MW...|Bakeries, Food, D...|     Leeds|[7:0-15:0, 7:0-15...|      1| 45.456999|  -73.59525| No. 37 Sandwich Bar|    LS6 4EP|      4.0|           3|R8KTKaDhE-vD6T-ZF...|  4.5|  XWY|One of the few re...|kkwbEHdl4jC-qmz_4...|\n",
      "|     61 Queen Street|[,, 'none', {'rom...|FByZsT1Sob5Vf1AYJ...|Indian, Pakistani...|     Leeds|                null|      1|43.6528212|-79.3763454|         Desi Masala|   LS27 8EB|      4.0|           5|W3uiphF7mJtLimrRl...|  4.5|  XWY|If you drove past...|7fJynXk6Qln9jGvRZ...|\n",
      "|     61 Queen Street|[,, 'none', {'rom...|FByZsT1Sob5Vf1AYJ...|Indian, Pakistani...|     Leeds|                null|      1|43.6528212|-79.3763454|         Desi Masala|   LS27 8EB|      5.0|           5|CsGlFQ6LcAxeIc-jj...|  4.5|  XWY|Desi Masala Is By...|1UtqnWLKgJ3dpy7ZY...|\n",
      "|     61 Queen Street|[,, 'none', {'rom...|FByZsT1Sob5Vf1AYJ...|Indian, Pakistani...|     Leeds|                null|      1|43.6528212|-79.3763454|         Desi Masala|   LS27 8EB|      3.0|           5|pQDhXAzRTqAwHmbEN...|  4.5|  XWY|This place was ea...|IL92sXwOHCIrzLqbS...|\n",
      "|                    |                null|ZsL7FUkaWdyQnDoYB...|Chinese, Restaurants|    Oldham|                null|      1|42.9960594| -89.568889|Happy Gathering R...|    OL2 6PX|      4.0|           3|FHvN7qeeClh5i6R8r...|  4.0|  XGM|Happy Gathering R...|Auqu_6XtjK6qKC7aF...|\n",
      "|The Old Sorting O...|[,,,,,,, True,,, ...|8_GNJU3EPar9VkPzJ...|Arts & Crafts, Sh...|      Sale|[8:30-19:0, 8:30-...|      1|42.9960594| -89.568889|Bean & Brush Fami...|    M33 7XW|      3.0|           4|AkwfKp0wYOymr5-Wn...|  4.0|  XGM|The Bean and Brus...|kq14OQUFh-fsOeJtc...|\n",
      "|Gorebrook Works, ...|[,,,,,,,,,, {'gar...|6dhkHf-CFHr7C8wj-...|Art Supplies, Art...|Manchester|                null|      1|42.9960594| -89.568889|          Paper Cutz|    M12 5GH|      1.0|           3|cAIhGJ7dFslAAuYis...|  2.5|  XGM|Have purchased se...|s8g9eoKgEUocXjbCU...|\n",
      "|The Old Sorting O...|[,,,,,,, True,,, ...|8_GNJU3EPar9VkPzJ...|Arts & Crafts, Sh...|      Sale|[8:30-19:0, 8:30-...|      1|42.9960594| -89.568889|Bean & Brush Fami...|    M33 7XW|      4.0|           4|fPVgvQUL6nedd8JT6...|  4.0|  XGM|Well I was critic...|MNmGprqfgj5GMcO81...|\n",
      "|                    |[,,,,,,,, False,,...|JNZeVq9jr9AWURmnM...|Home Services, La...|      Bury|[0:0-0:0, 0:0-0:0...|      1|42.9960594| -89.568889|Total Gardening a...|    BL8 4DR|      5.0|           3|bCzGS9xQjkoOniPsl...|  5.0|  XGM|Thank you very mu...|oyjviHoedAeC_o6xB...|\n",
      "|Gorebrook Works, ...|[,,,,,,,,,, {'gar...|6dhkHf-CFHr7C8wj-...|Art Supplies, Art...|Manchester|                null|      1|42.9960594| -89.568889|          Paper Cutz|    M12 5GH|      5.0|           3|Ef7uTnHAfcwAV4FKU...|  2.5|  XGM|Great for crafter...|cYW7Wmfv0vBJ9M8cy...|\n",
      "|The Old Sorting O...|[,,,,,,, True,,, ...|8_GNJU3EPar9VkPzJ...|Arts & Crafts, Sh...|      Sale|[8:30-19:0, 8:30-...|      1|42.9960594| -89.568889|Bean & Brush Fami...|    M33 7XW|      2.0|           4|_cH0Pc1npvl1YE3u6...|  4.0|  XGM|This place is kid...|MNmGprqfgj5GMcO81...|\n",
      "|                    |                null|ZsL7FUkaWdyQnDoYB...|Chinese, Restaurants|    Oldham|                null|      1|42.9960594| -89.568889|Happy Gathering R...|    OL2 6PX|      4.0|           3|O14RpBRsPKQtnVk8W...|  4.0|  XGM|Gorgeous restaura...|-Bps7XxOw0JAnW79t...|\n",
      "|                    |[,,,,,,,, False,,...|JNZeVq9jr9AWURmnM...|Home Services, La...|      Bury|[0:0-0:0, 0:0-0:0...|      1|42.9960594| -89.568889|Total Gardening a...|    BL8 4DR|      5.0|           3|8Q8r16QDh7LkapcrC...|  5.0|  XGM|I used Martin and...|jMu-Nthrqcs9QU6CJ...|\n",
      "|                    |[,,,,,,,, False,,...|JNZeVq9jr9AWURmnM...|Home Services, La...|      Bury|[0:0-0:0, 0:0-0:0...|      1|42.9960594| -89.568889|Total Gardening a...|    BL8 4DR|      5.0|           3|x0IKEqpEKa-0zE-JN...|  5.0|  XGM|Great Company, Gr...|z0VoQUHIflp2IR8wT...|\n",
      "|The Old Sorting O...|[,,,,,,, True,,, ...|8_GNJU3EPar9VkPzJ...|Arts & Crafts, Sh...|      Sale|[8:30-19:0, 8:30-...|      1|42.9960594| -89.568889|Bean & Brush Fami...|    M33 7XW|      4.0|           4|3de1CrMwyU2osqwrO...|  4.0|  XGM|Great place which...|_7P-epn027LzqPW07...|\n",
      "|The Old Sorting O...|[,,,,,,, True,,, ...|8_GNJU3EPar9VkPzJ...|Arts & Crafts, Sh...|      Sale|[8:30-19:0, 8:30-...|      1|42.9960594| -89.568889|Bean & Brush Fami...|    M33 7XW|      5.0|           4|WUIqiK1Zh_0om0EhY...|  4.0|  XGM|We had a great da...|sgFfRNs9Pd0mAuIj8...|\n",
      "+--------------------+--------------------+--------------------+--------------------+----------+--------------------+-------+----------+-----------+--------------------+-----------+---------+------------+--------------------+-----+-----+--------------------+--------------------+\n",
      "only showing top 20 rows\n",
      "\n"
     ]
    }
   ],
   "source": [
    "df_business = df_business.orderBy(df_business.state.desc())\n"
   ]
  },
  {
   "cell_type": "code",
   "execution_count": 45,
   "metadata": {
    "scrolled": false
   },
   "outputs": [
    {
     "name": "stdout",
     "output_type": "stream",
     "text": [
      "+-----+-------+\n",
      "|state|  count|\n",
      "+-----+-------+\n",
      "|   TN|      3|\n",
      "|  DUR|      3|\n",
      "|  CON|      3|\n",
      "|   BC|      3|\n",
      "|  XGL|      3|\n",
      "|  DOW|      4|\n",
      "|  BAS|      4|\n",
      "|   UT|      4|\n",
      "|   AK|      7|\n",
      "|   AR|      7|\n",
      "|   NJ|      8|\n",
      "|   VT|      8|\n",
      "|  XWY|      8|\n",
      "|   AL|     12|\n",
      "|   NE|     12|\n",
      "|   GA|     14|\n",
      "|  XGM|     14|\n",
      "|   NM|     14|\n",
      "|   VA|     16|\n",
      "|   CT|     17|\n",
      "|   WA|     19|\n",
      "|   CA|    251|\n",
      "|   NY|    283|\n",
      "|   FL|    726|\n",
      "|   TX|   1071|\n",
      "|   SC|  21272|\n",
      "|   IL|  42371|\n",
      "|   AB|  99639|\n",
      "|   WI| 133660|\n",
      "|   QC| 179039|\n",
      "|   PA| 290097|\n",
      "|   OH| 321345|\n",
      "|   NC| 408060|\n",
      "|   ON| 784461|\n",
      "|   AZ|2082951|\n",
      "|   NV|2320491|\n",
      "+-----+-------+\n",
      "\n"
     ]
    }
   ],
   "source": [
    "States_Counting = df_business.groupBy(\"state\").count()\n",
    "\n",
    "States_Counting.orderBy(\"count\").show(100)"
   ]
  },
  {
   "cell_type": "code",
   "execution_count": 50,
   "metadata": {},
   "outputs": [
    {
     "name": "stdout",
     "output_type": "stream",
     "text": [
      "+---------+-----+\n",
      "|     city|count|\n",
      "+---------+-----+\n",
      "| Avondale|   11|\n",
      "|Las Vegas|    3|\n",
      "+---------+-----+\n",
      "\n"
     ]
    }
   ],
   "source": [
    "df_business.filter(df_business.state == \"GA\").groupBy(\"city\").count().show(200)\n"
   ]
  },
  {
   "cell_type": "code",
   "execution_count": 49,
   "metadata": {},
   "outputs": [
    {
     "name": "stdout",
     "output_type": "stream",
     "text": [
      "+--------------------+---------+-----+\n",
      "|         business_id|rev_stars|count|\n",
      "+--------------------+---------+-----+\n",
      "|0yYwrT1vYV0Jvzj74...|      5.0|    8|\n",
      "|UbL2j7VYnz8deaPUx...|      5.0|    2|\n",
      "|mBKkTiufDsw56kPmO...|      5.0|   17|\n",
      "|sqWrGiCjR9wwVPc3J...|      4.0|    2|\n",
      "|gGS9Os0UBBO8BosD3...|      5.0|   24|\n",
      "|ripszTzwIaQxa0ySL...|      4.0|    1|\n",
      "|qrSc13CYKlu5P94oj...|      5.0|    5|\n",
      "|Xm50kPf3xFpO8OVO2...|      4.0|    4|\n",
      "|BB9fhkkfc0K_pKVM6...|      4.0|    1|\n",
      "|5ZW87XKCg_FUJkeI2...|      5.0|    4|\n",
      "|8uU3DrUjqqNsIcrrU...|      5.0|    9|\n",
      "|E0vt4bpkuR7vGloNH...|      4.0|    1|\n",
      "|YxvYHkQjlesf7x9fa...|      5.0|    4|\n",
      "|gmiNx6RjVBnjoWZy8...|      5.0|    4|\n",
      "|okyjI_AzNv-qWcb2X...|      5.0|    1|\n",
      "|NczmALAiqjAjKGJJM...|      5.0|   44|\n",
      "|cfSuc4q7pQLF28mMb...|      5.0|   75|\n",
      "|FkXpr1ms8toOZ4sUW...|      4.0|    2|\n",
      "|RVKYE3WnFFT7yKIGm...|      4.0|    2|\n",
      "|Ev4xCXADFtLSkeZbl...|      4.0|    3|\n",
      "+--------------------+---------+-----+\n",
      "only showing top 20 rows\n",
      "\n"
     ]
    }
   ],
   "source": [
    "df_business.filter((col(\"rev_stars\") >= 4 ) & (col(\"state\") == 'NV') & (col(\"city\") == 'North Las Vegas')).groupBy(\"business_id\", \"rev_stars\").count().show()\n",
    "\n"
   ]
  },
  {
   "cell_type": "code",
   "execution_count": 55,
   "metadata": {
    "scrolled": false
   },
   "outputs": [
    {
     "name": "stdout",
     "output_type": "stream",
     "text": [
      "+-------------------------------------------------------------------------------------------------------------------------------------------------+-----+\n",
      "|categories                                                                                                                                       |count|\n",
      "+-------------------------------------------------------------------------------------------------------------------------------------------------+-----+\n",
      "|Health & Medical, Dentists, Oral Surgeons, Doctors, Cosmetic Dentists                                                                            |20   |\n",
      "|Music & DVDs, Videos & Video Game Rental, Vinyl Records, Books, Mags, Music & Video, Shopping                                                    |3    |\n",
      "|Parks, Active Life, Dog Parks                                                                                                                    |252  |\n",
      "|Breakfast & Brunch, Burgers, Sandwiches, Restaurants, American (Traditional)                                                                     |2583 |\n",
      "|Adult Entertainment, Nightlife, Bars, Strip Clubs                                                                                                |18   |\n",
      "|Health & Medical, Optometrists, Shopping, Eyewear & Opticians, Laser Eye Surgery/Lasik                                                           |3    |\n",
      "|Used, Vintage & Consignment, Fashion, Shopping                                                                                                   |383  |\n",
      "|Spiritual Shop, Art Supplies, Arts & Crafts, Shopping                                                                                            |3    |\n",
      "|Dance Clubs, Nightlife, Comedy Clubs, Bars                                                                                                       |22   |\n",
      "|Shopping, Sporting Goods, Local Services, Automotive, Motorcycle Dealers, Bikes, Bike Repair/Maintenance                                         |6    |\n",
      "|Restaurants, Indian, Italian                                                                                                                     |44   |\n",
      "|Dentists, General Dentistry, Health & Medical, Cosmetic Dentists, Doctors, Pediatricians, Endodontists                                           |4    |\n",
      "|Cheese Shops, Delis, Sandwiches, Restaurants, Food, Specialty Food                                                                               |6    |\n",
      "|Fitness & Instruction, Health & Medical, Gyms, Nutritionists, Active Life                                                                        |3    |\n",
      "|Automotive, Car Dealers, Auto Parts & Supplies, Auto Repair                                                                                      |1207 |\n",
      "|Restaurants, Breakfast & Brunch, Sandwiches, American (Traditional)                                                                              |457  |\n",
      "|Day Spas, Massage, Skin Care, Beauty & Spas                                                                                                      |292  |\n",
      "|Pizza, Beer, Wine & Spirits, Food, Restaurants, Nightlife, American (Traditional), Chicken Wings, Sports Bars, Bars                              |54   |\n",
      "|Meat Shops, Specialty Food, Seafood Markets, Restaurants, Seafood, Grocery, Food                                                                 |219  |\n",
      "|American (Traditional), Nightlife, Sports Bars, Pubs, Bars, Restaurants                                                                          |55   |\n",
      "|Women's Clothing, Fashion, Accessories, Men's Clothing, Shopping                                                                                 |12   |\n",
      "|Window Washing, Home & Garden, Local Services, Home Cleaning, Professional Services, Carpet Cleaning, Shopping, Home Services                    |12   |\n",
      "|Hair Removal, Beauty & Spas, Threading Services, Skin Care, Waxing, Day Spas, Massage                                                            |13   |\n",
      "|Restaurants, Pizza, Gluten-Free, Italian                                                                                                         |6    |\n",
      "|Food Delivery Services, Food, Restaurants, Pizza                                                                                                 |21   |\n",
      "|Active Life, Gyms, Boot Camps, Fitness & Instruction, Interval Training Gyms, Trainers                                                           |11   |\n",
      "|Cosmetic Dentists, Health & Medical, Pediatric Dentists, General Dentistry, Dentists                                                             |5    |\n",
      "|Used Bookstore, Local Services, Bookstores, Books, Mags, Music & Video, Community Service/Non-Profit, Shopping                                   |4    |\n",
      "|Cinema, Restaurants, Shopping, Shopping Centers, Arts & Entertainment                                                                            |76   |\n",
      "|Electronics, Shopping, Home Theatre Installation, Automotive, Car Stereo Installation, Home Services                                             |12   |\n",
      "|Movers, Professional Services, Home Services                                                                                                     |13   |\n",
      "|Eyewear & Opticians, Ophthalmologists, Health & Medical, Shopping, Optometrists, Doctors                                                         |74   |\n",
      "|Desserts, Bakeries, Coffee & Tea, Food                                                                                                           |127  |\n",
      "|Mexican, Fast Food, Restaurants, Tex-Mex, Breakfast & Brunch                                                                                     |29   |\n",
      "|Seafood, American (Traditional), Restaurants                                                                                                     |558  |\n",
      "|Laundry Services, Sewing & Alterations, Dry Cleaning, Local Services                                                                             |8    |\n",
      "|Health & Medical, Doctors, Pulmonologist                                                                                                         |14   |\n",
      "|Electricians, Solar Installation, Lighting Fixtures & Equipment, Home Services                                                                   |8    |\n",
      "|Hair Removal, Nail Salons, Beauty & Spas, Eyelash Service, Makeup Artists, Waxing                                                                |20   |\n",
      "|Automotive, Auto Customization, Auto Detailing, RV Repair, Auto Repair                                                                           |10   |\n",
      "|Chinese, Local Flavor, Japanese, Restaurants                                                                                                     |7    |\n",
      "|Tax Services, Financial Services, Accountants, Professional Services                                                                             |15   |\n",
      "|Restaurants, Chicken Wings, Sandwiches, Pizza                                                                                                    |185  |\n",
      "|Registration Services, Automotive                                                                                                                |68   |\n",
      "|Ice Cream & Frozen Yogurt, Fast Food, Burgers, Food, American (Traditional), Restaurants                                                         |210  |\n",
      "|Chiropractors, Health & Medical, Massage Therapy, Medical Centers                                                                                |3    |\n",
      "|Home & Garden, Women's Clothing, Department Stores, Jewelry, Shopping, Accessories, Fashion, Shoe Stores, Men's Clothing, Home Decor             |12   |\n",
      "|Photographers, Event Planning & Services, Session Photography, Event Photography                                                                 |41   |\n",
      "|Automotive, Windshield Installation & Repair, Auto Glass Services, Body Shops                                                                    |149  |\n",
      "|Parks, Active Life, Disc Golf                                                                                                                    |17   |\n",
      "|Bars, Burgers, Nightlife, Restaurants                                                                                                            |14   |\n",
      "|Roofing, Home Services, Painters, Contractors                                                                                                    |3    |\n",
      "|Computers, Shopping, Mobile Phone Repair, Mobile Phones, Local Services, IT Services & Computer Repair                                           |6    |\n",
      "|Event Planning & Services, Photographers, Session Photography, Event Photography                                                                 |59   |\n",
      "|Desserts, Tex-Mex, Food, Restaurants, Mexican, Asian Fusion, Hawaiian                                                                            |159  |\n",
      "|Flowers & Gifts, Florists, Food, Shopping, Grocery                                                                                               |21   |\n",
      "|Chicken Wings, Fast Food, Restaurants, Chicken Shop                                                                                              |156  |\n",
      "|Event Planning & Services, Beauty & Spas, Tattoo, Officiants, Permanent Makeup                                                                   |4    |\n",
      "|Contractors, Water Purification Services, Tiling, Home Services, Plumbing, Flooring                                                              |9    |\n",
      "|Cosmetics & Beauty Supply, Beauty & Spas, Convenience Stores, Food, Health & Medical, Pharmacy, Shopping, Medical Centers, Drugstores            |4    |\n",
      "|Food, Creperies, Restaurants, Cafes, Desserts, Ice Cream & Frozen Yogurt                                                                         |33   |\n",
      "|Health & Medical, Reiki                                                                                                                          |32   |\n",
      "|Appliances & Repair, Heating & Air Conditioning/HVAC, Local Services, Home Services                                                              |27   |\n",
      "|Restaurants, Indian, Food, Local Flavor, Food Trucks                                                                                             |4    |\n",
      "|Bikes, Local Services, Bike Rentals, Sporting Goods, Bike Repair/Maintenance, Hotels & Travel, Tours, Mountain Biking, Active Life, Shopping     |51   |\n",
      "|Food Delivery Services, Restaurants, Food, Asian Fusion, Chinese                                                                                 |3    |\n",
      "|Health & Medical, Doctors, Obstetricians & Gynecologists, Counseling & Mental Health                                                             |3    |\n",
      "|Sandwiches, Restaurants, Nightlife, Vegetarian, Bars                                                                                             |4    |\n",
      "|Bakeries, Food, Patisserie/Cake Shop                                                                                                             |52   |\n",
      "|Italian, French, Restaurants                                                                                                                     |95   |\n",
      "|Restaurants, Breakfast & Brunch, Coffee & Tea, Food, Internet Cafes                                                                              |16   |\n",
      "|Arts & Entertainment, Shopping, Beauty & Spas, Tobacco Shops, Piercing, Tattoo, Art Galleries                                                    |23   |\n",
      "|Food, Specialty Food, Fruits & Veggies, Farmers Market                                                                                           |318  |\n",
      "|Cosmetology Schools, Specialty Schools, Day Spas, Massage, Skin Care, Party & Event Planning, Beauty & Spas, Education, Event Planning & Services|22   |\n",
      "|Hotels & Travel, Limos, Taxis, Airport Shuttles, Transportation                                                                                  |30   |\n",
      "|Check Cashing/Pay-day Loans, Financial Services, Banks & Credit Unions                                                                           |5    |\n",
      "|Restaurants, Steakhouses, Delis, Food                                                                                                            |7    |\n",
      "|Steakhouses, Sandwiches, American (Traditional), Fast Food, Restaurants, American (New)                                                          |18   |\n",
      "|Venues & Event Spaces, Hotels & Travel, Hotels, Event Planning & Services                                                                        |663  |\n",
      "|Periodontists, General Dentistry, Cosmetic Dentists, Health & Medical, Dentists, Pediatric Dentists                                              |3    |\n",
      "|Makeup Artists, Hair Salons, Beauty & Spas                                                                                                       |253  |\n",
      "|Pet Services, Pet Stores, Aquarium Services, Local Fish Stores, Pets                                                                             |23   |\n",
      "|Shoe Stores, Adult, Accessories, Fashion, Shopping                                                                                               |6    |\n",
      "|Preschools, Local Services, Education, Summer Camps, Active Life, Child Care & Day Care                                                          |16   |\n",
      "|Home Network Installation, IT Services & Computer Repair, Shopping, Data Recovery, Home Services, Electronics Repair, Computers, Local Services  |10   |\n",
      "|Barbeque, Restaurants, Comfort Food                                                                                                              |12   |\n",
      "|Hair Removal, Nail Salons, Beauty & Spas, Waxing, Massage                                                                                        |20   |\n",
      "|Makeup Artists, Skin Care, Health & Medical, Waxing, Hair Removal, Beauty & Spas                                                                 |12   |\n",
      "|Coffee & Tea, Bakeries, Sandwiches, Restaurants, Food, Vegan, Desserts                                                                           |64   |\n",
      "|Periodontists, Endodontists, General Dentistry, Cosmetic Dentists, Dentists, Orthodontists, Health & Medical                                     |61   |\n",
      "|Nightlife, Bars, Sports Bars, Gay Bars                                                                                                           |51   |\n",
      "|Drugstores, Department Stores, Shopping, Fashion                                                                                                 |113  |\n",
      "|Automotive, Truck Rental                                                                                                                         |55   |\n",
      "|Hardware Stores, Office Equipment, Home & Garden, Shopping, Home Services, Keys & Locksmiths                                                     |3    |\n",
      "|Teacher Supplies, Shopping, Art Supplies, Education, Office Equipment, Toy Stores, Arts & Crafts                                                 |3    |\n",
      "|Pets, Pet Sitting, Pet Services, Dog Walkers                                                                                                     |73   |\n",
      "|Cremation Services, Local Services, Funeral Services & Cemeteries                                                                                |84   |\n",
      "|Fitness & Instruction, Active Life, Gyms, Boxing                                                                                                 |4    |\n",
      "|Doctors, Internal Medicine, Health & Medical, Medical Centers                                                                                    |21   |\n",
      "|Hair Extensions, Beauty & Spas, Hair Salons, Blow Dry/Out Services                                                                               |6    |\n",
      "+-------------------------------------------------------------------------------------------------------------------------------------------------+-----+\n",
      "only showing top 100 rows\n",
      "\n"
     ]
    }
   ],
   "source": [
    "df_business.select(\"categories\").groupBy(\"categories\").count().show(100, False)"
   ]
  },
  {
   "cell_type": "code",
   "execution_count": null,
   "metadata": {},
   "outputs": [],
   "source": []
  }
 ],
 "metadata": {
  "kernelspec": {
   "display_name": "Python 3",
   "language": "python",
   "name": "python3"
  },
  "language_info": {
   "codemirror_mode": {
    "name": "ipython",
    "version": 3
   },
   "file_extension": ".py",
   "mimetype": "text/x-python",
   "name": "python",
   "nbconvert_exporter": "python",
   "pygments_lexer": "ipython3",
   "version": "3.7.1"
  }
 },
 "nbformat": 4,
 "nbformat_minor": 2
}
